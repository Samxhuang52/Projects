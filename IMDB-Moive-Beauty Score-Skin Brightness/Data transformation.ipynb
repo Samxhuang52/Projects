{
 "cells": [
  {
   "cell_type": "code",
   "execution_count": 180,
   "metadata": {
    "collapsed": true
   },
   "outputs": [],
   "source": [
    "import pandas as pd\n",
    "import numpy as np\n",
    "from pandas import DataFrame, Series"
   ]
  },
  {
   "cell_type": "code",
   "execution_count": 181,
   "metadata": {
    "collapsed": false
   },
   "outputs": [],
   "source": [
    "df=pd.read_csv('MergedWithBrightness5.26.csv')"
   ]
  },
  {
   "cell_type": "code",
   "execution_count": 182,
   "metadata": {
    "collapsed": false
   },
   "outputs": [
    {
     "data": {
      "text/html": [
       "<div>\n",
       "<table border=\"1\" class=\"dataframe\">\n",
       "  <thead>\n",
       "    <tr style=\"text-align: right;\">\n",
       "      <th></th>\n",
       "      <th>Unnamed: 0</th>\n",
       "      <th>SecondsViewed_x</th>\n",
       "      <th>CompPrimaryKey</th>\n",
       "      <th>Programme</th>\n",
       "      <th>New.Cust.ID</th>\n",
       "      <th>Gender</th>\n",
       "      <th>AgeRange</th>\n",
       "      <th>Week.of.Programme.Viewing</th>\n",
       "      <th>VideoGenre</th>\n",
       "      <th>star</th>\n",
       "      <th>...</th>\n",
       "      <th>4</th>\n",
       "      <th>5</th>\n",
       "      <th>6</th>\n",
       "      <th>7</th>\n",
       "      <th>Row Labels</th>\n",
       "      <th>Count of Week.of.Programme.Viewing</th>\n",
       "      <th>Max of Week.of.Programme.Viewing</th>\n",
       "      <th>Min of Week.of.Programme.Viewing</th>\n",
       "      <th>days</th>\n",
       "      <th>NewCols</th>\n",
       "    </tr>\n",
       "  </thead>\n",
       "  <tbody>\n",
       "    <tr>\n",
       "      <th>0</th>\n",
       "      <td>0</td>\n",
       "      <td>898</td>\n",
       "      <td>along-for-the-ride10321</td>\n",
       "      <td>along-for-the-ride</td>\n",
       "      <td>10321</td>\n",
       "      <td>female</td>\n",
       "      <td>25 to 34</td>\n",
       "      <td>6/7/15</td>\n",
       "      <td>factual,new-zealand</td>\n",
       "      <td>108707</td>\n",
       "      <td>...</td>\n",
       "      <td>0</td>\n",
       "      <td>0</td>\n",
       "      <td>0</td>\n",
       "      <td>1</td>\n",
       "      <td>10321</td>\n",
       "      <td>1</td>\n",
       "      <td>6/7/15</td>\n",
       "      <td>6/7/15</td>\n",
       "      <td>0</td>\n",
       "      <td>along-for-the-ride10321</td>\n",
       "    </tr>\n",
       "    <tr>\n",
       "      <th>1</th>\n",
       "      <td>1</td>\n",
       "      <td>1711</td>\n",
       "      <td>along-for-the-ride10472</td>\n",
       "      <td>along-for-the-ride</td>\n",
       "      <td>10472</td>\n",
       "      <td>male</td>\n",
       "      <td>35 to 44</td>\n",
       "      <td>2/15/15</td>\n",
       "      <td>factualnew-zealand</td>\n",
       "      <td>108707</td>\n",
       "      <td>...</td>\n",
       "      <td>0</td>\n",
       "      <td>0</td>\n",
       "      <td>0</td>\n",
       "      <td>1</td>\n",
       "      <td>10472</td>\n",
       "      <td>2</td>\n",
       "      <td>2/22/15</td>\n",
       "      <td>2/15/15</td>\n",
       "      <td>7</td>\n",
       "      <td>along-for-the-ride10472</td>\n",
       "    </tr>\n",
       "    <tr>\n",
       "      <th>2</th>\n",
       "      <td>2</td>\n",
       "      <td>3798</td>\n",
       "      <td>along-for-the-ride10570</td>\n",
       "      <td>along-for-the-ride</td>\n",
       "      <td>10570</td>\n",
       "      <td>male</td>\n",
       "      <td>65 to 74</td>\n",
       "      <td>3/1/15</td>\n",
       "      <td>factual,new-zealand</td>\n",
       "      <td>108707</td>\n",
       "      <td>...</td>\n",
       "      <td>0</td>\n",
       "      <td>0</td>\n",
       "      <td>0</td>\n",
       "      <td>1</td>\n",
       "      <td>10570</td>\n",
       "      <td>1</td>\n",
       "      <td>3/1/15</td>\n",
       "      <td>3/1/15</td>\n",
       "      <td>0</td>\n",
       "      <td>along-for-the-ride10570</td>\n",
       "    </tr>\n",
       "    <tr>\n",
       "      <th>3</th>\n",
       "      <td>3</td>\n",
       "      <td>1289</td>\n",
       "      <td>along-for-the-ride10639</td>\n",
       "      <td>along-for-the-ride</td>\n",
       "      <td>10639</td>\n",
       "      <td>female</td>\n",
       "      <td>55 to 64</td>\n",
       "      <td>3/8/15</td>\n",
       "      <td>factual,new-zealand</td>\n",
       "      <td>108707</td>\n",
       "      <td>...</td>\n",
       "      <td>0</td>\n",
       "      <td>0</td>\n",
       "      <td>0</td>\n",
       "      <td>1</td>\n",
       "      <td>10639</td>\n",
       "      <td>1</td>\n",
       "      <td>3/8/15</td>\n",
       "      <td>3/8/15</td>\n",
       "      <td>0</td>\n",
       "      <td>along-for-the-ride10639</td>\n",
       "    </tr>\n",
       "    <tr>\n",
       "      <th>4</th>\n",
       "      <td>4</td>\n",
       "      <td>3427</td>\n",
       "      <td>along-for-the-ride10738</td>\n",
       "      <td>along-for-the-ride</td>\n",
       "      <td>10738</td>\n",
       "      <td>female</td>\n",
       "      <td>45 to 54</td>\n",
       "      <td>3/22/15</td>\n",
       "      <td>factualnew-zealand</td>\n",
       "      <td>108707</td>\n",
       "      <td>...</td>\n",
       "      <td>0</td>\n",
       "      <td>0</td>\n",
       "      <td>0</td>\n",
       "      <td>1</td>\n",
       "      <td>10738</td>\n",
       "      <td>1</td>\n",
       "      <td>3/22/15</td>\n",
       "      <td>3/22/15</td>\n",
       "      <td>0</td>\n",
       "      <td>along-for-the-ride10738</td>\n",
       "    </tr>\n",
       "  </tbody>\n",
       "</table>\n",
       "<p>5 rows × 43 columns</p>\n",
       "</div>"
      ],
      "text/plain": [
       "   Unnamed: 0  SecondsViewed_x           CompPrimaryKey           Programme  \\\n",
       "0           0              898  along-for-the-ride10321  along-for-the-ride   \n",
       "1           1             1711  along-for-the-ride10472  along-for-the-ride   \n",
       "2           2             3798  along-for-the-ride10570  along-for-the-ride   \n",
       "3           3             1289  along-for-the-ride10639  along-for-the-ride   \n",
       "4           4             3427  along-for-the-ride10738  along-for-the-ride   \n",
       "\n",
       "   New.Cust.ID  Gender  AgeRange Week.of.Programme.Viewing  \\\n",
       "0        10321  female  25 to 34                    6/7/15   \n",
       "1        10472    male  35 to 44                   2/15/15   \n",
       "2        10570    male  65 to 74                    3/1/15   \n",
       "3        10639  female  55 to 64                    3/8/15   \n",
       "4        10738  female  45 to 54                   3/22/15   \n",
       "\n",
       "            VideoGenre    star           ...             4  5  6  7  \\\n",
       "0  factual,new-zealand  108707           ...             0  0  0  1   \n",
       "1   factualnew-zealand  108707           ...             0  0  0  1   \n",
       "2  factual,new-zealand  108707           ...             0  0  0  1   \n",
       "3  factual,new-zealand  108707           ...             0  0  0  1   \n",
       "4   factualnew-zealand  108707           ...             0  0  0  1   \n",
       "\n",
       "   Row Labels Count of Week.of.Programme.Viewing  \\\n",
       "0       10321                                  1   \n",
       "1       10472                                  2   \n",
       "2       10570                                  1   \n",
       "3       10639                                  1   \n",
       "4       10738                                  1   \n",
       "\n",
       "   Max of Week.of.Programme.Viewing  Min of Week.of.Programme.Viewing  days  \\\n",
       "0                            6/7/15                            6/7/15     0   \n",
       "1                           2/22/15                           2/15/15     7   \n",
       "2                            3/1/15                            3/1/15     0   \n",
       "3                            3/8/15                            3/8/15     0   \n",
       "4                           3/22/15                           3/22/15     0   \n",
       "\n",
       "                   NewCols  \n",
       "0  along-for-the-ride10321  \n",
       "1  along-for-the-ride10472  \n",
       "2  along-for-the-ride10570  \n",
       "3  along-for-the-ride10639  \n",
       "4  along-for-the-ride10738  \n",
       "\n",
       "[5 rows x 43 columns]"
      ]
     },
     "execution_count": 182,
     "metadata": {},
     "output_type": "execute_result"
    }
   ],
   "source": [
    "df.head()"
   ]
  },
  {
   "cell_type": "code",
   "execution_count": 183,
   "metadata": {
    "collapsed": false
   },
   "outputs": [
    {
     "data": {
      "text/plain": [
       "Index([u'Unnamed: 0', u'SecondsViewed_x', u'CompPrimaryKey', u'Programme',\n",
       "       u'New.Cust.ID', u'Gender', u'AgeRange', u'Week.of.Programme.Viewing',\n",
       "       u'VideoGenre', u'star', u'sum_secondviewed', u'dirctor',\n",
       "       u'dirctor.ranking', u'producer', u'producer.ranking', u'actor1',\n",
       "       u'actor1SB', u'actor1.ranking', u'actor1 BS', u'actor2', u'actor2SB',\n",
       "       u'actor2.ranking', u'actor2 BS', u'actor3', u'actor3SB',\n",
       "       u'actor3.ranking', u'actor3 BS', u'actor_avg', u'actpr_avg_BS',\n",
       "       u'Weekday', u'1', u'2', u'3', u'4', u'5', u'6', u'7', u'Row Labels',\n",
       "       u'Count of Week.of.Programme.Viewing',\n",
       "       u'Max of Week.of.Programme.Viewing',\n",
       "       u'Min of Week.of.Programme.Viewing', u'days', u'NewCols'],\n",
       "      dtype='object')"
      ]
     },
     "execution_count": 183,
     "metadata": {},
     "output_type": "execute_result"
    }
   ],
   "source": [
    "df.columns"
   ]
  },
  {
   "cell_type": "code",
   "execution_count": 184,
   "metadata": {
    "collapsed": false
   },
   "outputs": [
    {
     "data": {
      "text/plain": [
       "0        126.287529\n",
       "1        126.287529\n",
       "2        126.287529\n",
       "3        126.287529\n",
       "4        126.287529\n",
       "5        126.287529\n",
       "6        126.287529\n",
       "7        126.287529\n",
       "8        126.287529\n",
       "9        126.287529\n",
       "10       126.287529\n",
       "11       126.287529\n",
       "12       126.287529\n",
       "13       126.287529\n",
       "14       126.287529\n",
       "15       126.287529\n",
       "16       126.287529\n",
       "17       126.287529\n",
       "18       126.287529\n",
       "19       126.287529\n",
       "20       126.287529\n",
       "21       126.287529\n",
       "22       126.287529\n",
       "23       126.287529\n",
       "24       126.287529\n",
       "25       126.287529\n",
       "26       126.287529\n",
       "27       126.287529\n",
       "28       126.287529\n",
       "29       126.287529\n",
       "            ...    \n",
       "68550    163.787927\n",
       "68551    163.787927\n",
       "68552    163.787927\n",
       "68553    163.787927\n",
       "68554    163.787927\n",
       "68555    163.787927\n",
       "68556    163.787927\n",
       "68557    163.787927\n",
       "68558    163.787927\n",
       "68559    163.787927\n",
       "68560    163.787927\n",
       "68561    163.787927\n",
       "68562    163.787927\n",
       "68563    163.787927\n",
       "68564    163.787927\n",
       "68565    163.787927\n",
       "68566    163.787927\n",
       "68567    163.787927\n",
       "68568    163.787927\n",
       "68569    163.787927\n",
       "68570    163.787927\n",
       "68571    163.787927\n",
       "68572    163.787927\n",
       "68573    163.787927\n",
       "68574    163.787927\n",
       "68575    163.787927\n",
       "68576    163.787927\n",
       "68577    163.787927\n",
       "68578    163.787927\n",
       "68579    163.787927\n",
       "Name: actor1SB, dtype: float64"
      ]
     },
     "execution_count": 184,
     "metadata": {},
     "output_type": "execute_result"
    }
   ],
   "source": [
    "df['actor1SB']"
   ]
  },
  {
   "cell_type": "code",
   "execution_count": 185,
   "metadata": {
    "collapsed": false
   },
   "outputs": [],
   "source": [
    "df1 = pd.DataFrame()"
   ]
  },
  {
   "cell_type": "code",
   "execution_count": 186,
   "metadata": {
    "collapsed": true
   },
   "outputs": [],
   "source": [
    "df1['actor1'] =df['actor1']\n",
    "df1['actor2'] =df['actor2']\n",
    "df1['actor3'] =df['actor3']\n",
    "df1['actor1SB'] = df['actor1SB']\n",
    "df1['actor2SB'] = df['actor2SB']\n",
    "df1['actor3SB'] = df['actor3SB']"
   ]
  },
  {
   "cell_type": "code",
   "execution_count": 187,
   "metadata": {
    "collapsed": false
   },
   "outputs": [],
   "source": [
    "df2 = df1.drop_duplicates()"
   ]
  },
  {
   "cell_type": "code",
   "execution_count": 188,
   "metadata": {
    "collapsed": false
   },
   "outputs": [
    {
     "data": {
      "text/html": [
       "<div>\n",
       "<table border=\"1\" class=\"dataframe\">\n",
       "  <thead>\n",
       "    <tr style=\"text-align: right;\">\n",
       "      <th></th>\n",
       "      <th>actor1</th>\n",
       "      <th>actor2</th>\n",
       "      <th>actor3</th>\n",
       "      <th>actor1SB</th>\n",
       "      <th>actor2SB</th>\n",
       "      <th>actor3SB</th>\n",
       "    </tr>\n",
       "  </thead>\n",
       "  <tbody>\n",
       "    <tr>\n",
       "      <th>0</th>\n",
       "      <td>Randall Batinkoff</td>\n",
       "      <td>Dylan Haggerty</td>\n",
       "      <td>J.E. Freeman</td>\n",
       "      <td>126.287529</td>\n",
       "      <td>184.290966</td>\n",
       "      <td>236.677813</td>\n",
       "    </tr>\n",
       "    <tr>\n",
       "      <th>310</th>\n",
       "      <td>Tom Bergeron</td>\n",
       "      <td>Bob Saget</td>\n",
       "      <td>Jess Harnell</td>\n",
       "      <td>252.998387</td>\n",
       "      <td>166.142939</td>\n",
       "      <td>185.738825</td>\n",
       "    </tr>\n",
       "    <tr>\n",
       "      <th>659</th>\n",
       "      <td>Shawnee Smith</td>\n",
       "      <td>Charlie Sheen</td>\n",
       "      <td>Noureen DeWulf</td>\n",
       "      <td>185.880402</td>\n",
       "      <td>167.082076</td>\n",
       "      <td>180.848887</td>\n",
       "    </tr>\n",
       "    <tr>\n",
       "      <th>1092</th>\n",
       "      <td>Stephen Amell</td>\n",
       "      <td>Katie Cassidy</td>\n",
       "      <td>David Ramsey</td>\n",
       "      <td>198.627742</td>\n",
       "      <td>145.322589</td>\n",
       "      <td>154.696580</td>\n",
       "    </tr>\n",
       "    <tr>\n",
       "      <th>3529</th>\n",
       "      <td>Jean-Luc Bilodeau</td>\n",
       "      <td>Tahj Mowry</td>\n",
       "      <td>Derek Theler</td>\n",
       "      <td>106.022130</td>\n",
       "      <td>147.626539</td>\n",
       "      <td>168.260702</td>\n",
       "    </tr>\n",
       "  </tbody>\n",
       "</table>\n",
       "</div>"
      ],
      "text/plain": [
       "                 actor1          actor2          actor3    actor1SB  \\\n",
       "0     Randall Batinkoff  Dylan Haggerty    J.E. Freeman  126.287529   \n",
       "310        Tom Bergeron       Bob Saget    Jess Harnell  252.998387   \n",
       "659       Shawnee Smith   Charlie Sheen  Noureen DeWulf  185.880402   \n",
       "1092      Stephen Amell   Katie Cassidy    David Ramsey  198.627742   \n",
       "3529  Jean-Luc Bilodeau      Tahj Mowry    Derek Theler  106.022130   \n",
       "\n",
       "        actor2SB    actor3SB  \n",
       "0     184.290966  236.677813  \n",
       "310   166.142939  185.738825  \n",
       "659   167.082076  180.848887  \n",
       "1092  145.322589  154.696580  \n",
       "3529  147.626539  168.260702  "
      ]
     },
     "execution_count": 188,
     "metadata": {},
     "output_type": "execute_result"
    }
   ],
   "source": [
    "df2.head()"
   ]
  },
  {
   "cell_type": "code",
   "execution_count": 189,
   "metadata": {
    "collapsed": true
   },
   "outputs": [],
   "source": [
    "actor1=df2['actor1SB']\n",
    "actor2=df2['actor2SB']\n",
    "actor3=df2['actor3SB']"
   ]
  },
  {
   "cell_type": "code",
   "execution_count": 158,
   "metadata": {
    "collapsed": false
   },
   "outputs": [],
   "source": [
    "arr1 = actor1.values\n",
    "arr2 = actor2.values\n",
    "arr3 = actor3.values"
   ]
  },
  {
   "cell_type": "code",
   "execution_count": 190,
   "metadata": {
    "collapsed": false
   },
   "outputs": [],
   "source": [
    "actor_all = pd.concat([df2['actor1SB'],df2['actor2SB'],df2['actor3SB']])"
   ]
  },
  {
   "cell_type": "code",
   "execution_count": 191,
   "metadata": {
    "collapsed": false
   },
   "outputs": [
    {
     "data": {
      "text/plain": [
       "0        236.677813\n",
       "310      185.738825\n",
       "659      180.848887\n",
       "1092     154.696580\n",
       "3529     168.260702\n",
       "4680     107.644136\n",
       "4718     195.981969\n",
       "7400     237.397666\n",
       "9875     189.891746\n",
       "11924    220.390002\n",
       "14907    178.800087\n",
       "14933    169.630767\n",
       "17426    175.194052\n",
       "19962    217.161221\n",
       "21653    213.020703\n",
       "21883    234.268020\n",
       "23356    147.711905\n",
       "23633    227.791249\n",
       "24788    116.825408\n",
       "25244    169.062438\n",
       "25417     65.714892\n",
       "25434    159.103535\n",
       "25570    163.845891\n",
       "26616    242.445128\n",
       "26714    293.288138\n",
       "28202    110.749433\n",
       "29367    229.433851\n",
       "29746    153.348009\n",
       "31608    216.357863\n",
       "33899    193.598006\n",
       "35071    218.577867\n",
       "35150    171.799316\n",
       "35169    216.643255\n",
       "38551    168.550405\n",
       "39467    229.771084\n",
       "41270     98.148444\n",
       "41330    186.346036\n",
       "44346    187.588376\n",
       "44418    219.935954\n",
       "45402    240.824841\n",
       "45918     89.136278\n",
       "46030    137.836526\n",
       "49198    156.474164\n",
       "50045    152.709070\n",
       "50780    149.166095\n",
       "52488    157.715557\n",
       "54481    126.015797\n",
       "57980    244.569704\n",
       "59817    194.883768\n",
       "59852    218.031686\n",
       "62095    154.436922\n",
       "65179    140.199183\n",
       "65435    206.049157\n",
       "65515    121.950613\n",
       "67158    269.737079\n",
       "68033    204.869092\n",
       "Name: actor3SB, dtype: float64"
      ]
     },
     "execution_count": 191,
     "metadata": {},
     "output_type": "execute_result"
    }
   ],
   "source": [
    "actor3"
   ]
  },
  {
   "cell_type": "code",
   "execution_count": null,
   "metadata": {
    "collapsed": false
   },
   "outputs": [],
   "source": []
  },
  {
   "cell_type": "code",
   "execution_count": 175,
   "metadata": {
    "collapsed": false
   },
   "outputs": [],
   "source": [
    "qcut = pd.qcut(actor_all,3,labels=['low','meidan','high'])"
   ]
  },
  {
   "cell_type": "code",
   "execution_count": 165,
   "metadata": {
    "collapsed": false
   },
   "outputs": [
    {
     "data": {
      "text/plain": [
       "0           low\n",
       "310        high\n",
       "659      meidan\n",
       "1092     meidan\n",
       "3529        low\n",
       "4680       high\n",
       "4718       high\n",
       "7400       high\n",
       "9875     meidan\n",
       "11924       low\n",
       "14907    meidan\n",
       "14933       low\n",
       "17426    meidan\n",
       "19962    meidan\n",
       "21653    meidan\n",
       "21883       low\n",
       "23356    meidan\n",
       "23633       low\n",
       "24788    meidan\n",
       "25244       low\n",
       "25417      high\n",
       "25434      high\n",
       "25570    meidan\n",
       "26616      high\n",
       "26714       low\n",
       "28202    meidan\n",
       "29367       low\n",
       "29746    meidan\n",
       "31608      high\n",
       "33899    meidan\n",
       "          ...  \n",
       "29367      high\n",
       "29746       low\n",
       "31608      high\n",
       "33899    meidan\n",
       "35071      high\n",
       "35150       low\n",
       "35169      high\n",
       "38551       low\n",
       "39467      high\n",
       "41270       low\n",
       "41330    meidan\n",
       "44346    meidan\n",
       "44418      high\n",
       "45402      high\n",
       "45918       low\n",
       "46030       low\n",
       "49198       low\n",
       "50045       low\n",
       "50780       low\n",
       "52488       low\n",
       "54481       low\n",
       "57980      high\n",
       "59817    meidan\n",
       "59852      high\n",
       "62095       low\n",
       "65179       low\n",
       "65435    meidan\n",
       "65515       low\n",
       "67158      high\n",
       "68033    meidan\n",
       "dtype: category\n",
       "Categories (3, object): [low < meidan < high]"
      ]
     },
     "execution_count": 165,
     "metadata": {},
     "output_type": "execute_result"
    }
   ],
   "source": [
    "qcut"
   ]
  },
  {
   "cell_type": "code",
   "execution_count": 176,
   "metadata": {
    "collapsed": false
   },
   "outputs": [],
   "source": [
    "dfmap = pd.DataFrame({'SB':actor_all, 'range':qcut})"
   ]
  },
  {
   "cell_type": "code",
   "execution_count": 177,
   "metadata": {
    "collapsed": false
   },
   "outputs": [],
   "source": [
    "dfmap.to_excel('dfmap1.xlsx')"
   ]
  },
  {
   "cell_type": "code",
   "execution_count": 99,
   "metadata": {
    "collapsed": false
   },
   "outputs": [],
   "source": [
    "a1 = df['actor1SB']"
   ]
  },
  {
   "cell_type": "code",
   "execution_count": 167,
   "metadata": {
    "collapsed": false
   },
   "outputs": [],
   "source": [
    "dict1 = Series(dfmap.range.values,index=dfmap.SB).to_dict()"
   ]
  },
  {
   "cell_type": "code",
   "execution_count": 168,
   "metadata": {
    "collapsed": false
   },
   "outputs": [
    {
     "data": {
      "text/plain": [
       "{nan: nan,\n",
       " 65.714891769999994: 'low',\n",
       " 72.844711540000006: 'low',\n",
       " 75.313325509999999: 'low',\n",
       " 89.13627769: 'low',\n",
       " 98.148443700000001: 'low',\n",
       " 98.392702979999996: 'low',\n",
       " 106.0221298: 'low',\n",
       " 106.68434280000001: 'low',\n",
       " 107.64413590000002: 'low',\n",
       " 110.7494334: 'low',\n",
       " 116.8254082: 'low',\n",
       " 121.95061299999999: 'low',\n",
       " 124.30680190000001: 'low',\n",
       " 125.33776370000001: 'low',\n",
       " 126.0157966: 'low',\n",
       " 126.2875291: 'low',\n",
       " 127.66238290000001: 'low',\n",
       " 135.0371949: 'low',\n",
       " 136.18509460000001: 'low',\n",
       " 137.47703810000002: 'low',\n",
       " 137.8365264: 'low',\n",
       " 140.19918330000002: 'low',\n",
       " 145.3225894: 'low',\n",
       " 145.38254019999997: 'low',\n",
       " 145.87949819999997: 'low',\n",
       " 147.62653889999999: 'low',\n",
       " 147.71190540000001: 'low',\n",
       " 149.16609530000002: 'low',\n",
       " 152.0537635: 'low',\n",
       " 152.70906980000001: 'low',\n",
       " 153.3480094: 'low',\n",
       " 154.42568439999999: 'low',\n",
       " 154.43692240000001: 'low',\n",
       " 154.69658039999999: 'low',\n",
       " 156.474164: 'low',\n",
       " 156.5911236: 'low',\n",
       " 157.7155573: 'low',\n",
       " 159.10353549999999: 'low',\n",
       " 161.21934130000002: 'low',\n",
       " 162.65174150000001: 'low',\n",
       " 163.7879269: 'low',\n",
       " 163.84589099999999: 'low',\n",
       " 163.90287369999999: 'low',\n",
       " 165.69249530000002: 'low',\n",
       " 166.14293850000001: 'low',\n",
       " 167.0820756: 'low',\n",
       " 167.26288590000001: 'low',\n",
       " 168.26070249999998: 'low',\n",
       " 168.55040490000002: 'low',\n",
       " 169.0624382: 'low',\n",
       " 169.63076669999998: 'low',\n",
       " 170.93037469999999: 'low',\n",
       " 171.47838350000001: 'low',\n",
       " 171.76231250000001: 'low',\n",
       " 171.7993161: 'low',\n",
       " 172.3421045: 'low',\n",
       " 173.22918059999998: 'meidan',\n",
       " 173.62112490000001: 'meidan',\n",
       " 175.1940524: 'meidan',\n",
       " 178.467378: 'meidan',\n",
       " 178.70944019999999: 'meidan',\n",
       " 178.80008669999998: 'meidan',\n",
       " 179.41826830000002: 'meidan',\n",
       " 180.61904939999999: 'meidan',\n",
       " 180.84888720000001: 'meidan',\n",
       " 181.6048237: 'meidan',\n",
       " 182.18688209999999: 'meidan',\n",
       " 182.77199730000001: 'meidan',\n",
       " 182.88381830000003: 'meidan',\n",
       " 183.43441609999999: 'meidan',\n",
       " 183.93871530000001: 'meidan',\n",
       " 184.29096559999999: 'meidan',\n",
       " 185.14580469999999: 'meidan',\n",
       " 185.73882470000001: 'meidan',\n",
       " 185.88040240000001: 'meidan',\n",
       " 186.34603559999999: 'meidan',\n",
       " 187.58837649999998: 'meidan',\n",
       " 188.64530740000001: 'meidan',\n",
       " 189.762325: 'meidan',\n",
       " 189.89174550000001: 'meidan',\n",
       " 189.91828509999999: 'meidan',\n",
       " 191.64528430000001: 'meidan',\n",
       " 191.98636409999997: 'meidan',\n",
       " 193.50045219999998: 'meidan',\n",
       " 193.59800619999999: 'meidan',\n",
       " 194.8773281: 'meidan',\n",
       " 194.88376790000001: 'meidan',\n",
       " 195.0509959: 'meidan',\n",
       " 195.98196859999999: 'meidan',\n",
       " 196.02941619999999: 'meidan',\n",
       " 196.49253680000001: 'meidan',\n",
       " 197.59184450000001: 'meidan',\n",
       " 198.62774230000002: 'meidan',\n",
       " 198.68690190000001: 'meidan',\n",
       " 199.50512519999998: 'meidan',\n",
       " 199.72111809999998: 'meidan',\n",
       " 199.78425359999997: 'meidan',\n",
       " 201.15598669999997: 'meidan',\n",
       " 201.75306689999999: 'meidan',\n",
       " 203.2003125: 'meidan',\n",
       " 203.55751769999998: 'meidan',\n",
       " 204.59011459999999: 'meidan',\n",
       " 204.86909230000001: 'meidan',\n",
       " 205.55445990000001: 'meidan',\n",
       " 205.72720769999998: 'meidan',\n",
       " 206.04915680000002: 'meidan',\n",
       " 206.31782519999999: 'meidan',\n",
       " 206.37327350000001: 'meidan',\n",
       " 211.66213640000001: 'meidan',\n",
       " 212.3273605: 'meidan',\n",
       " 213.02070319999996: 'high',\n",
       " 213.51209800000001: 'high',\n",
       " 216.33060809999998: 'high',\n",
       " 216.35786329999999: 'high',\n",
       " 216.4192113: 'high',\n",
       " 216.57301769999998: 'high',\n",
       " 216.6432551: 'high',\n",
       " 216.835825: 'high',\n",
       " 217.16122119999997: 'high',\n",
       " 218.03168579999999: 'high',\n",
       " 218.10930980000003: 'high',\n",
       " 218.12991769999996: 'high',\n",
       " 218.4303985: 'high',\n",
       " 218.57786710000002: 'high',\n",
       " 218.7120481: 'high',\n",
       " 219.01056600000001: 'high',\n",
       " 219.93595430000002: 'high',\n",
       " 220.39000200000001: 'high',\n",
       " 222.98449269999998: 'high',\n",
       " 223.88179920000002: 'high',\n",
       " 224.39869649999997: 'high',\n",
       " 225.00583330000001: 'high',\n",
       " 227.79124869999998: 'high',\n",
       " 228.4123026: 'high',\n",
       " 229.43385099999998: 'high',\n",
       " 229.77108390000001: 'high',\n",
       " 234.2680196: 'high',\n",
       " 234.848004: 'high',\n",
       " 236.05447459999999: 'high',\n",
       " 236.26048119999999: 'high',\n",
       " 236.67781260000001: 'high',\n",
       " 237.39766639999999: 'high',\n",
       " 237.45044109999998: 'high',\n",
       " 237.5282804: 'high',\n",
       " 239.33555730000003: 'high',\n",
       " 240.8248409: 'high',\n",
       " 242.44512779999999: 'high',\n",
       " 243.55527499999999: 'high',\n",
       " 244.56970380000001: 'high',\n",
       " 244.86865869999997: 'high',\n",
       " 245.58204130000001: 'high',\n",
       " 245.78680800000001: 'high',\n",
       " 246.03091879999999: 'high',\n",
       " 248.26862069999999: 'high',\n",
       " 248.34700519999996: 'high',\n",
       " 249.09860899999998: 'high',\n",
       " 252.99838730000002: 'high',\n",
       " 254.68629130000002: 'high',\n",
       " 254.9629228: 'high',\n",
       " 255.045096: 'high',\n",
       " 258.78939700000001: 'high',\n",
       " 266.75576090000004: 'high',\n",
       " 269.73707939999997: 'high',\n",
       " 278.1458538: 'high',\n",
       " 285.24428130000001: 'high',\n",
       " 293.28813819999999: 'high'}"
      ]
     },
     "execution_count": 168,
     "metadata": {},
     "output_type": "execute_result"
    }
   ],
   "source": [
    "dict1"
   ]
  },
  {
   "cell_type": "code",
   "execution_count": 169,
   "metadata": {
    "collapsed": false
   },
   "outputs": [],
   "source": [
    "df['actor1range'] = df['actor1SB']"
   ]
  },
  {
   "cell_type": "code",
   "execution_count": 170,
   "metadata": {
    "collapsed": false
   },
   "outputs": [
    {
     "data": {
      "text/plain": [
       "0        126.287529\n",
       "1        126.287529\n",
       "2        126.287529\n",
       "3        126.287529\n",
       "4        126.287529\n",
       "5        126.287529\n",
       "6        126.287529\n",
       "7        126.287529\n",
       "8        126.287529\n",
       "9        126.287529\n",
       "10       126.287529\n",
       "11       126.287529\n",
       "12       126.287529\n",
       "13       126.287529\n",
       "14       126.287529\n",
       "15       126.287529\n",
       "16       126.287529\n",
       "17       126.287529\n",
       "18       126.287529\n",
       "19       126.287529\n",
       "20       126.287529\n",
       "21       126.287529\n",
       "22       126.287529\n",
       "23       126.287529\n",
       "24       126.287529\n",
       "25       126.287529\n",
       "26       126.287529\n",
       "27       126.287529\n",
       "28       126.287529\n",
       "29       126.287529\n",
       "            ...    \n",
       "68550    163.787927\n",
       "68551    163.787927\n",
       "68552    163.787927\n",
       "68553    163.787927\n",
       "68554    163.787927\n",
       "68555    163.787927\n",
       "68556    163.787927\n",
       "68557    163.787927\n",
       "68558    163.787927\n",
       "68559    163.787927\n",
       "68560    163.787927\n",
       "68561    163.787927\n",
       "68562    163.787927\n",
       "68563    163.787927\n",
       "68564    163.787927\n",
       "68565    163.787927\n",
       "68566    163.787927\n",
       "68567    163.787927\n",
       "68568    163.787927\n",
       "68569    163.787927\n",
       "68570    163.787927\n",
       "68571    163.787927\n",
       "68572    163.787927\n",
       "68573    163.787927\n",
       "68574    163.787927\n",
       "68575    163.787927\n",
       "68576    163.787927\n",
       "68577    163.787927\n",
       "68578    163.787927\n",
       "68579    163.787927\n",
       "Name: actor1range, dtype: float64"
      ]
     },
     "execution_count": 170,
     "metadata": {},
     "output_type": "execute_result"
    }
   ],
   "source": [
    "df.replace({'actor1range':dict1})\n",
    "df['actor1range']"
   ]
  },
  {
   "cell_type": "code",
   "execution_count": null,
   "metadata": {
    "collapsed": true
   },
   "outputs": [],
   "source": []
  }
 ],
 "metadata": {
  "kernelspec": {
   "display_name": "Python 2",
   "language": "python",
   "name": "python2"
  },
  "language_info": {
   "codemirror_mode": {
    "name": "ipython",
    "version": 2
   },
   "file_extension": ".py",
   "mimetype": "text/x-python",
   "name": "python",
   "nbconvert_exporter": "python",
   "pygments_lexer": "ipython2",
   "version": "2.7.11"
  }
 },
 "nbformat": 4,
 "nbformat_minor": 0
}
