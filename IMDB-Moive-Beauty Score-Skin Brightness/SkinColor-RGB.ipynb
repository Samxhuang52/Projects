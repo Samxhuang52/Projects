{
 "cells": [
  {
   "cell_type": "markdown",
   "metadata": {},
   "source": [
    "# Locate the center point of face picture(nose) to extract RGB value and identified skin color"
   ]
  },
  {
   "cell_type": "code",
   "execution_count": 23,
   "metadata": {
    "collapsed": false
   },
   "outputs": [],
   "source": [
    "from PIL import Image\n",
    "import os\n",
    "import pandas as pd\n",
    "from pandas import DataFrame, Series"
   ]
  },
  {
   "cell_type": "code",
   "execution_count": 24,
   "metadata": {
    "collapsed": false
   },
   "outputs": [
    {
     "name": "stdout",
     "output_type": "stream",
     "text": [
      "['Aimee_Carrero.tiff', 'Alana_De_La_Garza.tiff', 'Amanda_Holden.tiff', 'Angus_T._Jones.tiff', 'Anthony_McPartlin.tiff', 'Ava_Jogia.tiff', 'Bianca_Kajlich.tiff', 'Bonnie_Somerville.tiff', 'Brian_Drummond.tiff', 'Candice_Patton.tiff', \"Catherine_O'Hara.tiff\", 'Chandler_Riggs.tiff', 'Chloe_Bennet.tiff', \"Chris_D'Elia.tiff\", 'Christine_Ebersole.tiff', 'Clare_Bowen.tiff', 'Clark_Gregg.tiff', 'Conchata_Ferrell.tiff', 'Cress_Williams.tiff', 'Dana_Delany.tiff', 'David_Tennant.tiff', 'Dawn_Harper.tiff', 'Declan_Donnelly.tiff', 'Don_Hewitt.tiff', 'Dylan_Haggerty.tiff', 'Edi_Gathegi.tiff', 'Elisha_Cuthbert.tiff', 'Emily_VanCamp.tiff', 'Gabriel_Mann.tiff', 'Ginnifer_Goodwin.tiff', 'Grant_Gustin.tiff', 'Ian_Anthony_Dale.tiff', 'Ian_Somerhalder.tiff', 'Ioan_Gruffudd.tiff', 'J.K._Simmons.tiff', 'Jaime_King.tiff', \"James_D'Arcy.tiff\", 'Janina_Gavankar.tiff', 'Jared_Padalecki.tiff', 'Jennifer_Morrison.tiff', 'Jensen_Ackles.tiff', 'Joseph_Morgan.tiff', 'Josie_Loren.tiff', 'Kat_Graham.tiff', 'Kathleen_Robertson.tiff', 'Katie_Cassidy.tiff', 'Kelly_Brook.tiff', 'Kevin_Bacon.tiff', 'Lacey_Chabert.tiff', 'Laz_Alonso.tiff', 'Maddie_Hasson.tiff', 'Maggie_Q.tiff', 'Malachi_Kirby.tiff', 'Mary_McDonnell.tiff', 'Max_Ryan.tiff', 'Ming-Na_Wen.tiff', 'Miriama_Smith.tiff', 'Nathan_Fillion.tiff', 'Nicolas_Cage.tiff', 'Noureen_DeWulf.tiff', 'Paul_Wesley.tiff', 'Phoebe_Tonkin.tiff', 'Randall_Batinkoff.tiff', 'Richard_Ian_Cox.tiff', 'Sarah_Edmondson.tiff', 'Sherri_Saum.tiff', 'Stana_Katic.tiff', 'Steve_Byrne.tiff', 'Susan_Sullivan.tiff', 'Terrence_Howard.tiff', 'Theo_James.tiff', 'Tim_Kang.tiff', 'Tom_Bergeron.tiff', 'Tom_Cavanagh.tiff', 'Vanessa_Marano.tiff']\n"
     ]
    }
   ],
   "source": [
    "fname=[]\n",
    "directory = '/Users/Singsing/Documents/IMDB_Project/face_crop_pics/'\n",
    "for subdir, dirs, files in os.walk(directory):\n",
    "    for file in files:\n",
    "        filename = file\n",
    "        #print(\"file is\", filename)\n",
    "        #fullpath = directory+filename\n",
    "        fname.append(filename)\n",
    "fname.pop(0)\n",
    "#fname.pop(0)\n",
    "print fname     "
   ]
  },
  {
   "cell_type": "code",
   "execution_count": 25,
   "metadata": {
    "collapsed": false
   },
   "outputs": [
    {
     "name": "stdout",
     "output_type": "stream",
     "text": [
      "(50, 54)\n",
      "(227, 164, 127, 255)\n",
      "(70, 98)\n",
      "(213, 219, 219, 255)\n",
      "(58, 60)\n",
      "(196, 154, 137, 255)\n",
      "(26, 50)\n",
      "(188, 147, 121, 255)\n",
      "(42, 70)\n",
      "(251, 225, 200, 255)\n",
      "(72, 80)\n",
      "(233, 230, 232, 255)\n",
      "(50, 36)\n",
      "(241, 209, 205, 255)\n",
      "(100, 60)\n",
      "(219, 173, 139, 255)\n",
      "(38, 44)\n",
      "(208, 209, 210, 255)\n",
      "(74, 42)\n",
      "(247, 198, 166, 255)\n",
      "(54, 80)\n",
      "(176, 134, 119, 255)\n",
      "(88, 66)\n",
      "(204, 164, 164, 255)\n",
      "(52, 42)\n",
      "(129, 86, 68, 255)\n",
      "(76, 50)\n",
      "(232, 195, 176, 255)\n",
      "(112, 50)\n",
      "(228, 151, 107, 255)\n",
      "(38, 38)\n",
      "(148, 117, 97, 255)\n",
      "(226, 102)\n",
      "(203, 158, 126, 255)\n",
      "(92, 76)\n",
      "(124, 96, 84, 255)\n",
      "(42, 56)\n",
      "(247, 182, 145, 255)\n",
      "(66, 32)\n",
      "(231, 200, 190, 255)\n",
      "(42, 56)\n",
      "(232, 189, 163, 255)\n",
      "(78, 28)\n",
      "(103, 75, 69, 255)\n",
      "(66, 34)\n",
      "(208, 161, 141, 255)\n",
      "(30, 44)\n",
      "(134, 135, 136, 255)\n",
      "(90, 22)\n",
      "(214, 142, 115, 255)\n",
      "(54, 134)\n",
      "(73, 66, 64, 255)\n",
      "(134, 54)\n",
      "(196, 165, 135, 255)\n",
      "(76, 38)\n",
      "(209, 162, 143, 255)\n",
      "(102, 38)\n",
      "(220, 170, 150, 255)\n",
      "(72, 22)\n",
      "(224, 172, 150, 255)\n",
      "(48, 10)\n",
      "(196, 162, 160, 255)\n",
      "(100, 34)\n",
      "(231, 189, 149, 255)\n",
      "(54, 48)\n",
      "(213, 165, 136, 255)\n",
      "(48, 82)\n",
      "(222, 223, 224, 255)\n",
      "(124, 74)\n",
      "(201, 177, 166, 255)\n",
      "(88, 94)\n",
      "(210, 166, 153, 255)\n",
      "(88, 46)\n",
      "(186, 137, 114, 255)\n",
      "(48, 50)\n",
      "(135, 106, 74, 255)\n",
      "(80, 46)\n",
      "(211, 154, 130, 255)\n",
      "(62, 68)\n",
      "(199, 162, 134, 255)\n",
      "(20, 64)\n",
      "(157, 117, 93, 255)\n",
      "(88, 50)\n",
      "(91, 92, 93, 255)\n",
      "(86, 44)\n",
      "(192, 139, 121, 255)\n",
      "(86, 42)\n",
      "(216, 180, 143, 255)\n",
      "(94, 58)\n",
      "(163, 164, 165, 255)\n",
      "(68, 32)\n",
      "(194, 107, 78, 255)\n",
      "(74, 34)\n",
      "(207, 157, 122, 255)\n",
      "(48, 26)\n",
      "(228, 209, 167, 255)\n",
      "(70, 66)\n",
      "(247, 221, 220, 255)\n",
      "(58, 70)\n",
      "(180, 148, 115, 255)\n",
      "(44, 32)\n",
      "(239, 194, 181, 255)\n",
      "(114, 50)\n",
      "(175, 138, 118, 255)\n",
      "(52, 20)\n",
      "(94, 51, 24, 255)\n",
      "(74, 26)\n",
      "(203, 157, 138, 255)\n",
      "(168, 108)\n",
      "(225, 173, 148, 255)\n",
      "(32, 52)\n",
      "(241, 209, 175, 255)\n",
      "(84, 46)\n",
      "(129, 74, 52, 255)\n",
      "(70, 58)\n",
      "(135, 136, 137, 255)\n",
      "(118, 48)\n",
      "(226, 194, 163, 255)\n",
      "(106, 58)\n",
      "(210, 150, 98, 255)\n",
      "(110, 40)\n",
      "(221, 156, 124, 255)\n",
      "(66, 56)\n",
      "(226, 192, 180, 255)\n",
      "(86, 32)\n",
      "(133, 99, 85, 255)\n",
      "(92, 44)\n",
      "(224, 170, 149, 255)\n",
      "(72, 86)\n",
      "(172, 137, 104, 255)\n",
      "(66, 32)\n",
      "(247, 197, 172, 255)\n",
      "(60, 62)\n",
      "(251, 215, 188, 255)\n",
      "(52, 24)\n",
      "(224, 182, 159, 255)\n",
      "(54, 32)\n",
      "(196, 153, 125, 255)\n",
      "(138, 64)\n",
      "(84, 56, 46, 255)\n",
      "(180, 100)\n",
      "(164, 158, 151, 255)\n",
      "(86, 30)\n",
      "(187, 115, 83, 255)\n",
      "(60, 20)\n",
      "(238, 210, 171, 255)\n",
      "(92, 40)\n",
      "(163, 107, 83, 255)\n",
      "(88, 36)\n",
      "(230, 188, 175, 255)\n"
     ]
    }
   ],
   "source": [
    "red = []\n",
    "green = []\n",
    "blue = []\n",
    "Name =[]\n",
    "for f in fname:\n",
    "    im = Image.open(directory+f) #Can be many different formats.\n",
    "    pix = im.load()\n",
    "    print im.size #Get the width and hight of the image for iterating over\n",
    "    p = pix[5,5] #Get the RGBA Value of the a pixel of an image\n",
    "    print p\n",
    "    r = p[0]\n",
    "    g = p[1]\n",
    "    b = p[2]\n",
    "    Name.append(f)\n",
    "    red.append(r)\n",
    "    green.append(g)\n",
    "    blue.append(b)\n",
    "    #pix[35,35] = value # Set the RGBA Value of the image (tuple)"
   ]
  },
  {
   "cell_type": "code",
   "execution_count": 26,
   "metadata": {
    "collapsed": true
   },
   "outputs": [],
   "source": [
    "df = pd.DataFrame()"
   ]
  },
  {
   "cell_type": "code",
   "execution_count": 27,
   "metadata": {
    "collapsed": true
   },
   "outputs": [],
   "source": [
    "df['Name']=Name\n",
    "df['Red']=red\n",
    "df['Green']=green\n",
    "df['Blue']=blue"
   ]
  },
  {
   "cell_type": "code",
   "execution_count": 29,
   "metadata": {
    "collapsed": false
   },
   "outputs": [],
   "source": [
    "df.to_excel('No_skin_color_rgb.xlsx')"
   ]
  },
  {
   "cell_type": "code",
   "execution_count": null,
   "metadata": {
    "collapsed": true
   },
   "outputs": [],
   "source": []
  }
 ],
 "metadata": {
  "kernelspec": {
   "display_name": "Python 2",
   "language": "python",
   "name": "python2"
  },
  "language_info": {
   "codemirror_mode": {
    "name": "ipython",
    "version": 2
   },
   "file_extension": ".py",
   "mimetype": "text/x-python",
   "name": "python",
   "nbconvert_exporter": "python",
   "pygments_lexer": "ipython2",
   "version": "2.7.11"
  }
 },
 "nbformat": 4,
 "nbformat_minor": 0
}
