{
 "cells": [
  {
   "cell_type": "code",
   "execution_count": 1,
   "metadata": {
    "collapsed": false
   },
   "outputs": [
    {
     "name": "stderr",
     "output_type": "stream",
     "text": [
      "/Users/Singsing/anaconda/lib/python2.7/site-packages/matplotlib/font_manager.py:273: UserWarning: Matplotlib is building the font cache using fc-list. This may take a moment.\n",
      "  warnings.warn('Matplotlib is building the font cache using fc-list. This may take a moment.')\n"
     ]
    }
   ],
   "source": [
    "import pandas as pd\n",
    "import numpy as np\n",
    "\n",
    "from sklearn.cross_validation import train_test_split\n",
    "from sklearn import metrics\n",
    "from sklearn.feature_selection import RFE\n",
    "\n",
    "from sklearn.linear_model import LogisticRegression\n",
    "from sklearn.svm import SVC\n",
    "from sklearn.ensemble import RandomForestClassifier\n",
    "from sklearn.tree import DecisionTreeClassifier\n",
    "from sklearn.ensemble import BaggingClassifier\n",
    "from sklearn.naive_bayes import GaussianNB\n",
    "from sklearn.neighbors import KNeighborsClassifier\n",
    "from sklearn.neural_network import BernoulliRBM\n",
    "from sklearn import tree\n",
    "from graphviz import Digraph\n",
    "\n",
    "\n",
    "import seaborn as sns\n",
    "sns.set_style('darkgrid')\n",
    "import matplotlib.pyplot as plt\n",
    "\n",
    "%matplotlib inline"
   ]
  },
  {
   "cell_type": "code",
   "execution_count": 2,
   "metadata": {
    "collapsed": true
   },
   "outputs": [],
   "source": [
    "dataframe = pd.read_csv('Final.csv')"
   ]
  },
  {
   "cell_type": "code",
   "execution_count": 3,
   "metadata": {
    "collapsed": true
   },
   "outputs": [],
   "source": [
    "columns = [\n",
    " 'AdjDE_x',\n",
    " 'AdjDE_y',\n",
    " 'AdjOE_x',\n",
    " 'AdjOE_y',\n",
    " 'AdjTempo_x',\n",
    " 'AdjTempo_y',\n",
    " 'Pythag_x',\n",
    " 'Pythag_y',\n",
    " 'team1_fg2pct',\n",
    " 'team1_fg3pct',\n",
    " 'team1_ftpct',\n",
    " 'team2_fg2pct',\n",
    " 'team2_fg3pct',\n",
    " 'team2_ftpct',\n",
    " 'x_pt_team_season_losses',\n",
    " 'x_pt_team_season_wins',\n",
    " 'x_rpi_rating',\n",
    " 'x_seed',\n",
    " 'y_pt_team_season_losses',\n",
    " 'y_pt_team_season_wins',\n",
    " 'y_rpi_rating',\n",
    " 'y_seed']\n",
    "\n",
    "fantastic_four = ['Pythag_x', 'Pythag_y', 'x_rpi_rating', 'y_rpi_rating']"
   ]
  },
  {
   "cell_type": "code",
   "execution_count": 4,
   "metadata": {
    "collapsed": true
   },
   "outputs": [],
   "source": [
    "X = dataframe[columns]\n",
    "\n",
    "Y = dataframe.Result\n",
    "Y = np.ravel(Y)"
   ]
  },
  {
   "cell_type": "code",
   "execution_count": 5,
   "metadata": {
    "collapsed": false
   },
   "outputs": [
    {
     "name": "stdout",
     "output_type": "stream",
     "text": [
      "557 557 240 240\n"
     ]
    }
   ],
   "source": [
    "X_train, X_test, Y_train, Y_test = train_test_split(X, Y, test_size=0.3)\n",
    "print len(X_train), len(Y_train), len(X_test), len(Y_test)"
   ]
  },
  {
   "cell_type": "code",
   "execution_count": 6,
   "metadata": {
    "collapsed": false
   },
   "outputs": [],
   "source": [
    "log_reg = LogisticRegression()\n",
    "rand_for = RandomForestClassifier()\n",
    "dec_tree = DecisionTreeClassifier()\n",
    "bag_class = BaggingClassifier()\n",
    "naive_bay = GaussianNB()\n",
    "k_near_n = KNeighborsClassifier()"
   ]
  },
  {
   "cell_type": "code",
   "execution_count": null,
   "metadata": {
    "collapsed": false
   },
   "outputs": [],
   "source": []
  },
  {
   "cell_type": "markdown",
   "metadata": {},
   "source": [
    "<h1><b>LOGISTIC REGRESSION</b></h1>"
   ]
  },
  {
   "cell_type": "code",
   "execution_count": 7,
   "metadata": {
    "collapsed": false
   },
   "outputs": [
    {
     "data": {
      "text/html": [
       "<div>\n",
       "<table border=\"1\" class=\"dataframe\">\n",
       "  <thead>\n",
       "    <tr style=\"text-align: right;\">\n",
       "      <th></th>\n",
       "      <th>Rank</th>\n",
       "      <th>Feature</th>\n",
       "      <th>Support</th>\n",
       "    </tr>\n",
       "  </thead>\n",
       "  <tbody>\n",
       "    <tr>\n",
       "      <th>0</th>\n",
       "      <td>1</td>\n",
       "      <td>Pythag_x</td>\n",
       "      <td>True</td>\n",
       "    </tr>\n",
       "    <tr>\n",
       "      <th>1</th>\n",
       "      <td>1</td>\n",
       "      <td>Pythag_y</td>\n",
       "      <td>True</td>\n",
       "    </tr>\n",
       "    <tr>\n",
       "      <th>2</th>\n",
       "      <td>1</td>\n",
       "      <td>x_rpi_rating</td>\n",
       "      <td>True</td>\n",
       "    </tr>\n",
       "    <tr>\n",
       "      <th>3</th>\n",
       "      <td>1</td>\n",
       "      <td>y_rpi_rating</td>\n",
       "      <td>True</td>\n",
       "    </tr>\n",
       "  </tbody>\n",
       "</table>\n",
       "</div>"
      ],
      "text/plain": [
       "   Rank       Feature Support\n",
       "0     1      Pythag_x    True\n",
       "1     1      Pythag_y    True\n",
       "2     1  x_rpi_rating    True\n",
       "3     1  y_rpi_rating    True"
      ]
     },
     "execution_count": 7,
     "metadata": {},
     "output_type": "execute_result"
    }
   ],
   "source": [
    "log_reg_RFE = RFE(log_reg, 6)\n",
    "log_reg_RFE.fit(X_train[['Pythag_x', 'Pythag_y', 'x_rpi_rating', 'y_rpi_rating']], Y_train)\n",
    "\n",
    "log_reg_RFE_df = pd.DataFrame()\n",
    "\n",
    "log_reg_RFE_df['Rank'] = log_reg_RFE.ranking_\n",
    "log_reg_RFE_df['Feature'] = X_train[['Pythag_x', 'Pythag_y', 'x_rpi_rating', 'y_rpi_rating']].columns\n",
    "log_reg_RFE_df['Support'] = log_reg_RFE.support_\n",
    "log_reg_RFE_df[log_reg_RFE_df.Support == True]\n"
   ]
  },
  {
   "cell_type": "code",
   "execution_count": 8,
   "metadata": {
    "collapsed": false
   },
   "outputs": [
    {
     "name": "stdout",
     "output_type": "stream",
     "text": [
      "Logistic Regression model accuracy: 0.770833333333\n"
     ]
    }
   ],
   "source": [
    "print 'Logistic Regression model accuracy: ' + str(log_reg_RFE.score(X_test[['Pythag_x', 'Pythag_y', 'x_rpi_rating', 'y_rpi_rating']], Y_test))"
   ]
  },
  {
   "cell_type": "code",
   "execution_count": 9,
   "metadata": {
    "collapsed": false
   },
   "outputs": [],
   "source": [
    "log_reg_export = pd.DataFrame(log_reg_RFE.predict_proba(X[['Pythag_x', 'Pythag_y', 'x_rpi_rating', 'y_rpi_rating']]))\n",
    "log_reg_export['GameID'] = dataframe.game_id\n",
    "log_reg_export['Season'] = dataframe.season\n",
    "log_reg_export['Actual_Result'] = dataframe.Result"
   ]
  },
  {
   "cell_type": "code",
   "execution_count": 10,
   "metadata": {
    "collapsed": false
   },
   "outputs": [],
   "source": [
    "log_reg_export.to_csv('Logistic_Regression_Test.csv')"
   ]
  },
  {
   "cell_type": "markdown",
   "metadata": {},
   "source": [
    "<h1><b>DECISION TREE</b></h1>"
   ]
  },
  {
   "cell_type": "code",
   "execution_count": 11,
   "metadata": {
    "collapsed": false
   },
   "outputs": [
    {
     "data": {
      "text/html": [
       "<div>\n",
       "<table border=\"1\" class=\"dataframe\">\n",
       "  <thead>\n",
       "    <tr style=\"text-align: right;\">\n",
       "      <th></th>\n",
       "      <th>Rank</th>\n",
       "      <th>Feature</th>\n",
       "      <th>Support</th>\n",
       "    </tr>\n",
       "  </thead>\n",
       "  <tbody>\n",
       "    <tr>\n",
       "      <th>0</th>\n",
       "      <td>1</td>\n",
       "      <td>Pythag_x</td>\n",
       "      <td>True</td>\n",
       "    </tr>\n",
       "    <tr>\n",
       "      <th>1</th>\n",
       "      <td>1</td>\n",
       "      <td>Pythag_y</td>\n",
       "      <td>True</td>\n",
       "    </tr>\n",
       "    <tr>\n",
       "      <th>2</th>\n",
       "      <td>1</td>\n",
       "      <td>x_rpi_rating</td>\n",
       "      <td>True</td>\n",
       "    </tr>\n",
       "    <tr>\n",
       "      <th>3</th>\n",
       "      <td>1</td>\n",
       "      <td>y_rpi_rating</td>\n",
       "      <td>True</td>\n",
       "    </tr>\n",
       "  </tbody>\n",
       "</table>\n",
       "</div>"
      ],
      "text/plain": [
       "   Rank       Feature Support\n",
       "0     1      Pythag_x    True\n",
       "1     1      Pythag_y    True\n",
       "2     1  x_rpi_rating    True\n",
       "3     1  y_rpi_rating    True"
      ]
     },
     "execution_count": 11,
     "metadata": {},
     "output_type": "execute_result"
    }
   ],
   "source": [
    "dec_tree_RFE = RFE(dec_tree, 4)\n",
    "dec_tree_RFE.fit(X_train[['Pythag_x', 'Pythag_y', 'x_rpi_rating', 'y_rpi_rating']], Y_train)\n",
    "\n",
    "dec_tree_RFE_df = pd.DataFrame()\n",
    "\n",
    "dec_tree_RFE_df['Rank'] = dec_tree_RFE.ranking_\n",
    "dec_tree_RFE_df['Feature'] = X_train[['Pythag_x', 'Pythag_y', 'x_rpi_rating', 'y_rpi_rating']].columns\n",
    "dec_tree_RFE_df['Support'] = dec_tree_RFE.support_\n",
    "dec_tree_RFE_df[dec_tree_RFE_df.Support == True]"
   ]
  },
  {
   "cell_type": "code",
   "execution_count": 12,
   "metadata": {
    "collapsed": false
   },
   "outputs": [
    {
     "name": "stdout",
     "output_type": "stream",
     "text": [
      "Decision Tree model accuracy: 0.741666666667\n"
     ]
    }
   ],
   "source": [
    "print 'Decision Tree model accuracy: ' + str(dec_tree_RFE.score(X_test[['Pythag_x', 'Pythag_y', 'x_rpi_rating', 'y_rpi_rating']], Y_test))"
   ]
  },
  {
   "cell_type": "code",
   "execution_count": 13,
   "metadata": {
    "collapsed": false
   },
   "outputs": [],
   "source": [
    "dec_tree_export = pd.DataFrame(dec_tree_RFE.predict_proba(X[['Pythag_x', 'Pythag_y', 'x_rpi_rating', 'y_rpi_rating']]))\n",
    "dec_tree_export['GameID'] = dataframe.game_id\n",
    "dec_tree_export['Season'] = dataframe.season\n",
    "dec_tree_export['Actual_Result'] = dataframe.Result"
   ]
  },
  {
   "cell_type": "code",
   "execution_count": 14,
   "metadata": {
    "collapsed": true
   },
   "outputs": [],
   "source": [
    "dec_tree_export.to_csv('Decision_Tree_test.csv')"
   ]
  },
  {
   "cell_type": "markdown",
   "metadata": {
    "collapsed": true
   },
   "source": [
    "<h1><b>NAIVE BAYES</b></h1>"
   ]
  },
  {
   "cell_type": "code",
   "execution_count": 15,
   "metadata": {
    "collapsed": false
   },
   "outputs": [
    {
     "name": "stdout",
     "output_type": "stream",
     "text": [
      "Naive Baye model accuracy: 0.8\n"
     ]
    }
   ],
   "source": [
    "naive_bay.fit(X_train[['Pythag_x', 'Pythag_y', 'x_rpi_rating', 'y_rpi_rating']], Y_train)\n",
    "\n",
    "print 'Naive Baye model accuracy: ' + str(naive_bay.score(X_test[['Pythag_x', 'Pythag_y', 'x_rpi_rating', 'y_rpi_rating']], Y_test))"
   ]
  },
  {
   "cell_type": "code",
   "execution_count": 16,
   "metadata": {
    "collapsed": false
   },
   "outputs": [],
   "source": [
    "naive_bay_export = pd.DataFrame(naive_bay.predict_proba(X[['Pythag_x', 'Pythag_y', 'x_rpi_rating', 'y_rpi_rating']]))\n",
    "naive_bay_export['GameID'] = dataframe.game_id\n",
    "naive_bay_export['Season'] = dataframe.season\n",
    "naive_bay_export['Actual_Result'] = dataframe.Result"
   ]
  },
  {
   "cell_type": "code",
   "execution_count": 17,
   "metadata": {
    "collapsed": false
   },
   "outputs": [],
   "source": [
    "naive_bay_export.to_csv('Naive_Bay_test.csv')"
   ]
  },
  {
   "cell_type": "markdown",
   "metadata": {},
   "source": [
    "<h1><b>K NEAREST NEIGHBOR CLASSIFIER</b></h1>"
   ]
  },
  {
   "cell_type": "code",
   "execution_count": 20,
   "metadata": {
    "collapsed": false
   },
   "outputs": [
    {
     "data": {
      "text/plain": [
       "<matplotlib.text.Text at 0x11f45bad0>"
      ]
     },
     "execution_count": 20,
     "metadata": {},
     "output_type": "execute_result"
    },
    {
     "data": {
      "image/png": "[encoded data removed]",
      "text/plain": [
       "<matplotlib.figure.Figure at 0x11851e990>"
      ]
     },
     "metadata": {},
     "output_type": "display_data"
    }
   ],
   "source": [
    "# Test k values 1 through 20\n",
    "k_range = range(1, 21)\n",
    "\n",
    "# Set an empty list\n",
    "accuracy = []\n",
    "\n",
    "# Repeat above process for all k values and append the result\n",
    "for k in k_range:\n",
    "    k_near_n = KNeighborsClassifier(n_neighbors= k)\n",
    "    k_near_n.fit(X_train[fantastic_four], Y_train)\n",
    "    Y_pred = k_near_n.predict(X_test[fantastic_four])\n",
    "    accuracy.append(metrics.accuracy_score(Y_test, Y_pred))\n",
    "\n",
    "plt.title('KNN Neigbors by Accuracy')\n",
    "plt.plot(k_range, accuracy)\n",
    "plt.xlabel('K value for for kNN')\n",
    "plt.ylabel('Testing Accuracy')"
   ]
  },
  {
   "cell_type": "code",
   "execution_count": 23,
   "metadata": {
    "collapsed": false
   },
   "outputs": [
    {
     "name": "stdout",
     "output_type": "stream",
     "text": [
      "KNN model accuracy: 0.791666666667\n"
     ]
    }
   ],
   "source": [
    "k_near_n = KNeighborsClassifier(n_neighbors= 7)\n",
    "k_near_n.fit(X_train[fantastic_four], Y_train)\n",
    "print 'KNN model accuracy: ' + str(k_near_n.score(X_test[['Pythag_x', 'Pythag_y', 'x_rpi_rating', 'y_rpi_rating']], Y_test))"
   ]
  },
  {
   "cell_type": "code",
   "execution_count": 24,
   "metadata": {
    "collapsed": false
   },
   "outputs": [],
   "source": [
    "knn_export = pd.DataFrame(k_near_n.predict_proba(X[fantastic_four]))\n",
    "knn_export['GameID'] = dataframe.game_id\n",
    "knn_export['Season'] = dataframe.season\n",
    "knn_export['Actual_Result'] = dataframe.Result"
   ]
  },
  {
   "cell_type": "code",
   "execution_count": 25,
   "metadata": {
    "collapsed": false
   },
   "outputs": [],
   "source": [
    "knn_export.to_csv('KNN_test.csv')"
   ]
  },
  {
   "cell_type": "markdown",
   "metadata": {
    "collapsed": true
   },
   "source": [
    "<h1><b>RANDOM FOREST</b></h1>"
   ]
  },
  {
   "cell_type": "code",
   "execution_count": 54,
   "metadata": {
    "collapsed": false
   },
   "outputs": [],
   "source": [
    "rand_for.fit(X_train[fantastic_four], Y_train)\n",
    "\n",
    "rand_for_df = pd.DataFrame()\n",
    "\n",
    "rand_for_df['Feature'] = X_train[fantastic_four].columns\n",
    "rand_for_df['Rank'] = rand_for.feature_importances_\n",
    "rand_for_df.sort_values('Rank', inplace= True)"
   ]
  },
  {
   "cell_type": "code",
   "execution_count": 55,
   "metadata": {
    "collapsed": false
   },
   "outputs": [
    {
     "name": "stdout",
     "output_type": "stream",
     "text": [
      "Random forest model accuracy: 0.783333333333\n"
     ]
    }
   ],
   "source": [
    "print 'Random forest model accuracy: ' + str(rand_for.score(X_test[fantastic_four], Y_test))"
   ]
  },
  {
   "cell_type": "code",
   "execution_count": 59,
   "metadata": {
    "collapsed": false
   },
   "outputs": [
    {
     "data": {
      "text/plain": [
       "<matplotlib.axes._subplots.AxesSubplot at 0x122b43550>"
      ]
     },
     "execution_count": 59,
     "metadata": {},
     "output_type": "execute_result"
    },
    {
     "data": {
      "image/png": "[encoded data removed]",
      "text/plain": [
       "<matplotlib.figure.Figure at 0x121614d90>"
      ]
     },
     "metadata": {},
     "output_type": "display_data"
    }
   ],
   "source": [
    "plt.figure(figsize=(8,8))\n",
    "plt.title('Random Forest Predictor Importance')\n",
    "sns.barplot(x= 'Feature', y = 'Rank', data = rand_for_df, palette= 'Blues')"
   ]
  },
  {
   "cell_type": "code",
   "execution_count": 60,
   "metadata": {
    "collapsed": false
   },
   "outputs": [],
   "source": [
    "rand_for_export = pd.DataFrame(rand_for.predict_proba(X[fantastic_four]))\n",
    "rand_for_export['GameID'] = dataframe.game_id\n",
    "rand_for_export['Season'] = dataframe.season\n",
    "rand_for_export['Actual_Result'] = dataframe.Result"
   ]
  },
  {
   "cell_type": "code",
   "execution_count": 62,
   "metadata": {
    "collapsed": false
   },
   "outputs": [],
   "source": [
    "rand_for_export.to_csv('Random_Forest_test.csv')"
   ]
  },
  {
   "cell_type": "markdown",
   "metadata": {},
   "source": [
    "<h1><b>BAGGING CLASSIFIER</b></h1>"
   ]
  },
  {
   "cell_type": "code",
   "execution_count": 88,
   "metadata": {
    "collapsed": false
   },
   "outputs": [
    {
     "data": {
      "text/html": [
       "<div>\n",
       "<table border=\"1\" class=\"dataframe\">\n",
       "  <thead>\n",
       "    <tr style=\"text-align: right;\">\n",
       "      <th></th>\n",
       "      <th>Rank</th>\n",
       "      <th>Feature</th>\n",
       "      <th>Support</th>\n",
       "    </tr>\n",
       "  </thead>\n",
       "  <tbody>\n",
       "    <tr>\n",
       "      <th>6</th>\n",
       "      <td>1</td>\n",
       "      <td>Pythag_x</td>\n",
       "      <td>True</td>\n",
       "    </tr>\n",
       "    <tr>\n",
       "      <th>7</th>\n",
       "      <td>1</td>\n",
       "      <td>Pythag_y</td>\n",
       "      <td>True</td>\n",
       "    </tr>\n",
       "    <tr>\n",
       "      <th>16</th>\n",
       "      <td>1</td>\n",
       "      <td>x_rpi_rating</td>\n",
       "      <td>True</td>\n",
       "    </tr>\n",
       "    <tr>\n",
       "      <th>20</th>\n",
       "      <td>1</td>\n",
       "      <td>y_rpi_rating</td>\n",
       "      <td>True</td>\n",
       "    </tr>\n",
       "  </tbody>\n",
       "</table>\n",
       "</div>"
      ],
      "text/plain": [
       "    Rank       Feature Support\n",
       "6      1      Pythag_x    True\n",
       "7      1      Pythag_y    True\n",
       "16     1  x_rpi_rating    True\n",
       "20     1  y_rpi_rating    True"
      ]
     },
     "execution_count": 88,
     "metadata": {},
     "output_type": "execute_result"
    }
   ],
   "source": [
    "bag_class_RFE = RFE(dec_tree, 4)\n",
    "bag_class_RFE.fit(X_train, Y_train)\n",
    "\n",
    "bag_class_RFE_df = pd.DataFrame()\n",
    "\n",
    "bag_class_RFE_df['Rank'] = bag_class_RFE.ranking_\n",
    "bag_class_RFE_df['Feature'] = X_train.columns\n",
    "bag_class_RFE_df['Support'] = bag_class_RFE.support_\n",
    "bag_class_RFE_df[bag_class_RFE_df.Support == True]"
   ]
  },
  {
   "cell_type": "code",
   "execution_count": 89,
   "metadata": {
    "collapsed": false
   },
   "outputs": [
    {
     "name": "stdout",
     "output_type": "stream",
     "text": [
      "Bagging Cassifier accuracy: 0.7625\n"
     ]
    }
   ],
   "source": [
    "print 'Bagging Cassifier accuracy: ' + str(bag_class_RFE.score(X_test, Y_test))"
   ]
  },
  {
   "cell_type": "code",
   "execution_count": 96,
   "metadata": {
    "collapsed": false
   },
   "outputs": [],
   "source": [
    "bag_class_export = pd.DataFrame(bag_class_RFE.predict_proba(X))\n",
    "bag_class_export['GameID'] = dataframe.game_id\n",
    "bag_class_export['Season'] = dataframe.season\n",
    "bag_class_export['Actual_Result'] = dataframe.Result"
   ]
  },
  {
   "cell_type": "code",
   "execution_count": 98,
   "metadata": {
    "collapsed": false
   },
   "outputs": [],
   "source": [
    "bag_class_export.to_csv('Bag_Class_test.csv')"
   ]
  },
  {
   "cell_type": "code",
   "execution_count": null,
   "metadata": {
    "collapsed": true
   },
   "outputs": [],
   "source": []
  }
 ],
 "metadata": {
  "kernelspec": {
   "display_name": "Python 2",
   "language": "python",
   "name": "python2"
  },
  "language_info": {
   "codemirror_mode": {
    "name": "ipython",
    "version": 2
   },
   "file_extension": ".py",
   "mimetype": "text/x-python",
   "name": "python",
   "nbconvert_exporter": "python",
   "pygments_lexer": "ipython2",
   "version": "2.7.11"
  }
 },
 "nbformat": 4,
 "nbformat_minor": 0
}
