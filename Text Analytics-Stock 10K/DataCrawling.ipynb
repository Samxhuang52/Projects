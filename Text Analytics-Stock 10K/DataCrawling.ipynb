{
 "cells": [
  {
   "cell_type": "code",
   "execution_count": 1,
   "metadata": {
    "collapsed": true
   },
   "outputs": [],
   "source": [
    "import pandas as pd\n",
    "import numpy as np\n",
    "from bs4 import BeautifulSoup\n",
    "import urllib"
   ]
  },
  {
   "cell_type": "code",
   "execution_count": 2,
   "metadata": {
    "collapsed": true
   },
   "outputs": [],
   "source": [
    "dfgood = pd.read_csv('goodcompany.csv')"
   ]
  },
  {
   "cell_type": "code",
   "execution_count": 3,
   "metadata": {
    "collapsed": false
   },
   "outputs": [],
   "source": [
    "goodlist = dfgood['0'].tolist()"
   ]
  },
  {
   "cell_type": "code",
   "execution_count": 4,
   "metadata": {
    "collapsed": false
   },
   "outputs": [
    {
     "data": {
      "text/plain": [
       "['A+Schulman+Inc',\n",
       " 'Aegion+Corp',\n",
       " 'Aemetis+Inc',\n",
       " 'Agnico+Eagle+Mines+Limited',\n",
       " 'Agrium+Inc',\n",
       " 'Air+Products+and+Chemicals+Inc',\n",
       " 'AK+Steel+Holding+Corporation',\n",
       " 'Alamos+Gold+Inc',\n",
       " 'Albany+International+Corporation',\n",
       " 'Albemarle+Corporation',\n",
       " 'Alexco+Resource+Corp',\n",
       " 'Allegheny+Technologies+Incorporated',\n",
       " 'Almaden+Minerals+Ltd',\n",
       " 'Aluminum+Corporation+of+China+Limited',\n",
       " 'A+V+Homes+Inc',\n",
       " 'AAON+Inc',\n",
       " 'AAR+Corp',\n",
       " 'ABAXIS+Inc',\n",
       " 'Accelerate+Diagnostics+Inc',\n",
       " 'Acme+United+Corporation',\n",
       " 'Advanced+Drainage+Systems+Inc',\n",
       " 'Advanced+Energy+Industries+Inc',\n",
       " 'Aehr+Test+Systems',\n",
       " 'AEP+Industries+Inc',\n",
       " 'Aerojet+Rocketdyne+Holdings+Inc+',\n",
       " 'AeroVironment+Inc',\n",
       " 'Aethlon+Medical+Inc',\n",
       " 'AGCO+Corporation',\n",
       " '22nd+Century+Group+Inc',\n",
       " 'Adecoagro+SA',\n",
       " 'Agria+Corporation',\n",
       " 'Alico+Inc',\n",
       " 'Altria+Group',\n",
       " 'Ambev+SA',\n",
       " 'AMCON+Distributing+Company',\n",
       " 'American+Lorain+Corporation',\n",
       " 'Amira+Nature+Foods+Ltd',\n",
       " 'Amplify+Snack+Brands+inc',\n",
       " 'Anixter+International+Inc',\n",
       " 'AptarGroup+Inc',\n",
       " 'Archer-Daniels-Midland+Company',\n",
       " 'Armstrong+World+Industries+Inc',\n",
       " '1-800+FLOWERSCOM+Inc',\n",
       " '500com+Limited',\n",
       " 'AH+Belo+Corporation',\n",
       " 'Abengoa+SA',\n",
       " 'Abercrombie+&amp;+Fitch+Company',\n",
       " 'Acadia+Realty+Trust',\n",
       " 'Acorn+International+Inc',\n",
       " 'ACRE+Realty+Investors+Inc',\n",
       " 'ADDvantage+Technologies+Group+Inc',\n",
       " 'ADT+Corporation',\n",
       " 'Advance+Auto+Parts+Inc',\n",
       " 'AECOM',\n",
       " 'Aeropostale+Inc',\n",
       " 'Agree+Realty+Corporation',\n",
       " '1-800+FLOWERSCOM+Inc',\n",
       " '500com+Limited',\n",
       " 'AH+Belo+Corporation',\n",
       " 'Abengoa+SA',\n",
       " 'Abercrombie+&amp;+Fitch+Company',\n",
       " 'Acadia+Realty+Trust',\n",
       " 'Acorn+International+Inc',\n",
       " 'ACRE+Realty+Investors+Inc',\n",
       " 'ADDvantage+Technologies+Group+Inc',\n",
       " 'ADT+Corporation',\n",
       " 'Advance+Auto+Parts+Inc',\n",
       " 'AECOM',\n",
       " 'Aeropostale+Inc',\n",
       " 'Agree+Realty+Corporation',\n",
       " 'Allied+World+Assurance+Company+Holdings+AG',\n",
       " 'Allstate+Corporation+(The)',\n",
       " 'Ally+Financial+Inc',\n",
       " 'Altisource+Asset+Management+Corp',\n",
       " 'Altisource+Residential+Corporation',\n",
       " 'Ambac+Financial+Group+Inc',\n",
       " 'Ambac+Financial+Group+Inc',\n",
       " 'America+First+Multifamily+Investors+LP',\n",
       " 'American+Equity+Investment+Life+Holding+Company',\n",
       " 'American+Express+Company',\n",
       " '3M+Company',\n",
       " 'AAC+Holdings+Inc',\n",
       " 'Abbott+Laboratories',\n",
       " 'AbbVie+Inc',\n",
       " 'Abeona+Therapeutics+Inc',\n",
       " 'Abeona+Therapeutics+Inc',\n",
       " 'ABIOMED+Inc',\n",
       " 'Acadia+Healthcare+Company+Inc',\n",
       " 'ACADIA+Pharmaceuticals+Inc',\n",
       " 'Acceleron+Pharma+Inc',\n",
       " 'Accuray+Incorporated',\n",
       " 'AcelRx+Pharmaceuticals+Inc',\n",
       " 'Aceto+Corporation',\n",
       " 'Achaogen+Inc',\n",
       " 'Achillion+Pharmaceuticals+Inc',\n",
       " 'Acacia+Research+Corporation',\n",
       " 'Accenture+plc',\n",
       " 'Akamai+Technologies+Inc',\n",
       " 'Alibaba+Group+Holding+Limited',\n",
       " 'Alliance+Data+Systems+Corporation',\n",
       " 'Arotech+Corporation',\n",
       " 'athenahealth+Inc',\n",
       " 'Avid+Technology+Inc',\n",
       " 'B+Riley+Financial+Inc',\n",
       " 'Ballantyne+Strong+Inc',\n",
       " 'Bright+Horizons+Family+Solutions+Inc',\n",
       " 'Broadridge+Financial+Solutions+Inc',\n",
       " 'BSQUARE+Corporation',\n",
       " 'CAE+Inc',\n",
       " '8x8+Inc',\n",
       " 'Abengoa+Yield+plc',\n",
       " 'Active+Power+Inc',\n",
       " 'ADTRAN+Inc',\n",
       " 'Alaska+Communications+Systems+Group+Inc',\n",
       " 'Allete+Inc',\n",
       " 'Alliant+Energy+Corporation',\n",
       " 'America+Movil+SAB+de+CV',\n",
       " 'American+DG+Energy+Inc',\n",
       " 'American+Electric+Power+Company+Inc',\n",
       " 'American+Midstream+Partners+LP',\n",
       " 'American+States+Water+Company',\n",
       " 'American+Water+Works',\n",
       " 'Antero+Midstream+Partners+LP',\n",
       " 'Air+Methods+Corporation',\n",
       " 'Air+T+Inc',\n",
       " 'Air+Transport+Services+Group+Inc',\n",
       " 'Alaska+Air+Group+Inc',\n",
       " 'Allegiant+Travel+Company',\n",
       " 'American+Airlines+Group+Inc',\n",
       " 'ArcBest+Corporation',\n",
       " 'Ardmore+Shipping+Corporation',\n",
       " 'Atlas+Air+Worldwide+Holdings',\n",
       " 'Avianca+Holdings+SA',\n",
       " \"Brink's+Company+(The)\",\n",
       " 'Bristow+Group+Inc',\n",
       " 'CH+Robinson+Worldwide+Inc',\n",
       " 'Canadian+National+Railway+Company',\n",
       " '21Vianet+Group+Inc',\n",
       " '2U+Inc',\n",
       " '51job+Inc',\n",
       " '58com+Inc',\n",
       " 'A10+Networks+Inc',\n",
       " \"Aaron's++Inc\",\n",
       " 'ACI+Worldwide+Inc',\n",
       " 'Actions+Semiconductor+Co+Ltd',\n",
       " 'Activision+Blizzard+Inc',\n",
       " 'Actua+Corporation',\n",
       " 'Actuant+Corporation',\n",
       " 'Acxiom+Corporation',\n",
       " 'Adesto+Technologies+Corporation',\n",
       " 'Adobe+Systems+Incorporated',\n",
       " 'Allied+World+Assurance+Company+Holdings+AG',\n",
       " 'Allstate+Corporation+(The)',\n",
       " 'Ally+Financial+Inc',\n",
       " 'Altisource+Asset+Management+Corp',\n",
       " 'Altisource+Residential+Corporation',\n",
       " 'Ambac+Financial+Group+Inc',\n",
       " 'Ambac+Financial+Group+Inc',\n",
       " 'America+First+Multifamily+Investors+LP',\n",
       " 'American+Equity+Investment+Life+Holding+Company',\n",
       " 'American+Express+Company',\n",
       " 'Aclaris+Therapeutics+Inc',\n",
       " 'Acorda+Therapeutics+Inc',\n",
       " 'Actinium+Pharmaceuticals+Inc',\n",
       " 'Acura+Pharmaceuticals+Inc',\n",
       " 'Adamas+Pharmaceuticals+Inc',\n",
       " 'Adamis+Pharmaceuticals+Corporation',\n",
       " 'Adaptimmune+Therapeutics+plc',\n",
       " 'Adcare+Health+Systems+Inc',\n",
       " 'Addus+HomeCare+Corporation',\n",
       " 'Adeptus+Health+Inc']"
      ]
     },
     "execution_count": 4,
     "metadata": {},
     "output_type": "execute_result"
    }
   ],
   "source": [
    "goodlist"
   ]
  },
  {
   "cell_type": "code",
   "execution_count": 20,
   "metadata": {
    "collapsed": false
   },
   "outputs": [
    {
     "ename": "IndexError",
     "evalue": "list index out of range",
     "output_type": "error",
     "traceback": [
      "\u001b[1;31m---------------------------------------------------------------------------\u001b[0m",
      "\u001b[1;31mIndexError\u001b[0m                                Traceback (most recent call last)",
      "\u001b[1;32m<ipython-input-20-257c6f17b9db>\u001b[0m in \u001b[0;36m<module>\u001b[1;34m()\u001b[0m\n\u001b[0;32m     11\u001b[0m             \u001b[0mrow_index_we_want\u001b[0m \u001b[1;33m=\u001b[0m \u001b[0mi\u001b[0m \u001b[1;33m+\u001b[0m \u001b[1;36m1\u001b[0m\u001b[1;33m\u001b[0m\u001b[0m\n\u001b[0;32m     12\u001b[0m             \u001b[1;32mprint\u001b[0m \u001b[0mrow_index_we_want\u001b[0m\u001b[1;33m\u001b[0m\u001b[0m\n\u001b[1;32m---> 13\u001b[1;33m     \u001b[0murl_end\u001b[0m \u001b[1;33m=\u001b[0m \u001b[0mstr\u001b[0m\u001b[1;33m(\u001b[0m\u001b[0mrows\u001b[0m\u001b[1;33m[\u001b[0m\u001b[0mrow_index_we_want\u001b[0m\u001b[1;33m]\u001b[0m\u001b[1;33m)\u001b[0m\u001b[1;33m.\u001b[0m\u001b[0msplit\u001b[0m\u001b[1;33m(\u001b[0m\u001b[1;34m'/Archives/edgar/data/'\u001b[0m\u001b[1;33m)\u001b[0m\u001b[1;33m[\u001b[0m\u001b[1;36m1\u001b[0m\u001b[1;33m]\u001b[0m\u001b[1;33m.\u001b[0m\u001b[0msplit\u001b[0m\u001b[1;33m(\u001b[0m\u001b[1;34m'\"'\u001b[0m\u001b[1;33m)\u001b[0m\u001b[1;33m[\u001b[0m\u001b[1;36m0\u001b[0m\u001b[1;33m]\u001b[0m\u001b[1;33m\u001b[0m\u001b[0m\n\u001b[0m\u001b[0;32m     14\u001b[0m     \u001b[0mnew_url\u001b[0m \u001b[1;33m=\u001b[0m \u001b[1;34m'https://www.sec.gov/Archives/edgar/data/'\u001b[0m \u001b[1;33m+\u001b[0m \u001b[0mstr\u001b[0m\u001b[1;33m(\u001b[0m\u001b[0murl_end\u001b[0m\u001b[1;33m)\u001b[0m\u001b[1;33m\u001b[0m\u001b[0m\n\u001b[0;32m     15\u001b[0m     \u001b[0mnew_page\u001b[0m \u001b[1;33m=\u001b[0m \u001b[0murllib\u001b[0m\u001b[1;33m.\u001b[0m\u001b[0murlopen\u001b[0m\u001b[1;33m(\u001b[0m\u001b[0mnew_url\u001b[0m\u001b[1;33m)\u001b[0m\u001b[1;33m\u001b[0m\u001b[0m\n",
      "\u001b[1;31mIndexError\u001b[0m: list index out of range"
     ]
    }
   ],
   "source": [
    "for company in goodlist:\n",
    "    url = ('http://www.sec.gov/cgi-bin/browse-edgar?company='+str(company)+'&owner=exclude&action=getcompany')\n",
    "    page = urllib.urlopen(url)\n",
    "    soup = BeautifulSoup(page.read())\n",
    "    rows = soup.findAll('td')\n",
    "    row_index_we_want = 0\n",
    "\n",
    "    for i, ix in enumerate(rows):\n",
    "        row = str(ix)\n",
    "        if '10-K' in row:\n",
    "            row_index_we_want = i + 1\n",
    "            print row_index_we_want\n",
    "    url_end = str(rows[row_index_we_want]).split('/Archives/edgar/data/')[1].split('\"')[0]\n",
    "    new_url = 'https://www.sec.gov/Archives/edgar/data/' + str(url_end)\n",
    "    new_page = urllib.urlopen(new_url)\n",
    "    new_soup = BeautifulSoup(new_page.read())\n",
    "    new_rows = new_soup.findAll('td')\n",
    "    new_index = 0\n",
    "\n",
    "    for i, ix in enumerate(new_rows):\n",
    "        nrow = str(ix)\n",
    "        if '10-K' in nrow:\n",
    "            if new_index == 0:\n",
    "                new_index += i + 1\n",
    "            else:\n",
    "                pass\n",
    "    final_url = 'https://www.sec.gov/Archives/edgar/data/' + str(new_rows[new_index]).split('/Archives/edgar/data/')[1].split('\"')[0]\n",
    "    final_page = urllib.urlopen(final_url)\n",
    "    final_soup = BeautifulSoup(final_page.read())\n",
    "    test = final_soup.getText()\n",
    "    #test = str(final_soup.getText()).split('ITEM 1A. RISK FACTORS.')[1]\n",
    "   #test2 = str(test).split('ITEM 1B. UNRESOLVED')[0]\n",
    "    with open(str(company_code) + '.txt', 'w') as file:\n",
    "        file.write(test)"
   ]
  },
  {
   "cell_type": "code",
   "execution_count": null,
   "metadata": {
    "collapsed": true
   },
   "outputs": [],
   "source": []
  },
  {
   "cell_type": "code",
   "execution_count": null,
   "metadata": {
    "collapsed": true
   },
   "outputs": [],
   "source": []
  }
 ],
 "metadata": {
  "kernelspec": {
   "display_name": "Python 2",
   "language": "python",
   "name": "python2"
  },
  "language_info": {
   "codemirror_mode": {
    "name": "ipython",
    "version": 2
   },
   "file_extension": ".py",
   "mimetype": "text/x-python",
   "name": "python",
   "nbconvert_exporter": "python",
   "pygments_lexer": "ipython2",
   "version": "2.7.11"
  }
 },
 "nbformat": 4,
 "nbformat_minor": 0
}
