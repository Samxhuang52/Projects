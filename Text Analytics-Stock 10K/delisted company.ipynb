{
 "cells": [
  {
   "cell_type": "code",
   "execution_count": 1,
   "metadata": {
    "collapsed": false
   },
   "outputs": [],
   "source": [
    "from bs4 import BeautifulSoup\n",
    "import urllib2\n",
    "import pandas\n",
    "from pandas import DataFrame"
   ]
  },
  {
   "cell_type": "code",
   "execution_count": 2,
   "metadata": {
    "collapsed": true
   },
   "outputs": [],
   "source": [
    "url = 'https://listingcenter.nasdaq.com/noncompliantcompanylist.aspx'"
   ]
  },
  {
   "cell_type": "code",
   "execution_count": 3,
   "metadata": {
    "collapsed": false
   },
   "outputs": [],
   "source": [
    "page = urllib2.urlopen(url)"
   ]
  },
  {
   "cell_type": "code",
   "execution_count": 4,
   "metadata": {
    "collapsed": false
   },
   "outputs": [
    {
     "data": {
      "text/plain": [
       "<addinfourl at 134751816L whose fp = <socket._fileobject object at 0x000000000805E570>>"
      ]
     },
     "execution_count": 4,
     "metadata": {},
     "output_type": "execute_result"
    }
   ],
   "source": [
    "page"
   ]
  },
  {
   "cell_type": "code",
   "execution_count": 5,
   "metadata": {
    "collapsed": false
   },
   "outputs": [
    {
     "name": "stderr",
     "output_type": "stream",
     "text": [
      "C:\\Users\\xenos\\Anaconda2a\\lib\\site-packages\\bs4\\__init__.py:166: UserWarning: No parser was explicitly specified, so I'm using the best available HTML parser for this system (\"lxml\"). This usually isn't a problem, but if you run this code on another system, or in a different virtual environment, it may use a different parser and behave differently.\n",
      "\n",
      "To get rid of this warning, change this:\n",
      "\n",
      " BeautifulSoup([your markup])\n",
      "\n",
      "to this:\n",
      "\n",
      " BeautifulSoup([your markup], \"lxml\")\n",
      "\n",
      "  markup_type=markup_type))\n"
     ]
    }
   ],
   "source": [
    "soup = BeautifulSoup(page.read())"
   ]
  },
  {
   "cell_type": "code",
   "execution_count": 6,
   "metadata": {
    "collapsed": false
   },
   "outputs": [],
   "source": [
    "name = soup.find_all('td',colspan=\"4\")"
   ]
  },
  {
   "cell_type": "code",
   "execution_count": 7,
   "metadata": {
    "collapsed": false
   },
   "outputs": [
    {
     "data": {
      "text/plain": [
       "[<td colspan=\"4\"><p> 1347 Capital Corp.</p></td>,\n",
       " <td colspan=\"4\"><p> Acasti Pharma, Inc.</p></td>,\n",
       " <td colspan=\"4\"><p> Akorn, Inc.</p></td>,\n",
       " <td colspan=\"4\"><p> Alexza Pharmaceuticals, Inc.</p></td>,\n",
       " <td colspan=\"4\"><p> Allied Healthcare Products, Inc.</p></td>,\n",
       " <td colspan=\"4\"><p> Alphatec Holdings, Inc.</p></td>,\n",
       " <td colspan=\"4\"><p> American Caresource Holdings Inc</p></td>,\n",
       " <td colspan=\"4\"><p> Aoxin Tianli Group, Inc.</p></td>,\n",
       " <td colspan=\"4\"><p> Appliance Recycling Centers of America, Inc.</p></td>,\n",
       " <td colspan=\"4\"><p> Aqua Metals, Inc.</p></td>,\n",
       " <td colspan=\"4\"><p> Atossa Genetics Inc.</p></td>,\n",
       " <td colspan=\"4\"><p> Aviat Networks, Inc.</p></td>,\n",
       " <td colspan=\"4\"><p> Barrett Business Services, Inc.</p></td>,\n",
       " <td colspan=\"4\"><p> bebe stores, inc.</p></td>,\n",
       " <td colspan=\"4\"><p> Biodel Inc.</p></td>,\n",
       " <td colspan=\"4\"><p> Birner Dental Management Services, Inc.</p></td>,\n",
       " <td colspan=\"4\"><p> Breitburn Energy Partners LP</p></td>,\n",
       " <td colspan=\"4\"><p> Bridgeline Digital, Inc.</p></td>,\n",
       " <td colspan=\"4\"><p> Caladrius Biosciences, Inc.</p></td>,\n",
       " <td colspan=\"4\"><p> Carbylan Therapeutics, Inc.</p></td>,\n",
       " <td colspan=\"4\"><p> Cellectar Biosciences, Inc.</p></td>,\n",
       " <td colspan=\"4\"><p> Ceres, Inc.</p></td>,\n",
       " <td colspan=\"4\"><p> Champions Oncology, Inc.</p></td>,\n",
       " <td colspan=\"4\"><p> Chanticleer Holdings, Inc.</p></td>,\n",
       " <td colspan=\"4\"><p> China Ceramics Co., Ltd.</p></td>,\n",
       " <td colspan=\"4\"><p> China Commercial Credit, Inc.</p></td>,\n",
       " <td colspan=\"4\"><p> China Recycling Energy Corporation</p></td>,\n",
       " <td colspan=\"4\"><p> ChinaNet Online Holdings, Inc.</p></td>,\n",
       " <td colspan=\"4\"><p> Cinedigm Corp</p></td>,\n",
       " <td colspan=\"4\"><p> Clean Diesel Technologies, Inc.</p></td>,\n",
       " <td colspan=\"4\"><p> comScore, Inc.</p></td>,\n",
       " <td colspan=\"4\"><p> Cosi, Inc.</p></td>,\n",
       " <td colspan=\"4\"><p> Crossroads Systems, Inc.</p></td>,\n",
       " <td colspan=\"4\"><p> CTC Media, Inc.</p></td>,\n",
       " <td colspan=\"4\"><p> CTI BioPharma Corp.</p></td>,\n",
       " <td colspan=\"4\"><p> Cumulus Media Inc.</p></td>,\n",
       " <td colspan=\"4\"><p> Cyclacel Pharmaceuticals, Inc.</p></td>,\n",
       " <td colspan=\"4\"><p> Cytori Therapeutics Inc</p></td>,\n",
       " <td colspan=\"4\"><p> Dataram Corporation</p></td>,\n",
       " <td colspan=\"4\"><p> Delcath Systems, Inc.</p></td>,\n",
       " <td colspan=\"4\"><p> Delta Technology Holdings Limited</p></td>,\n",
       " <td colspan=\"4\"><p> Diana Containerships Inc.</p></td>,\n",
       " <td colspan=\"4\"><p> DraftDay Fantasy Sports, Inc.</p></td>,\n",
       " <td colspan=\"4\"><p> Echo Therapeutics, Inc.</p></td>,\n",
       " <td colspan=\"4\"><p> Elbit Imaging Ltd.</p></td>,\n",
       " <td colspan=\"4\"><p> Eleven Biotherapeutics, Inc.</p></td>,\n",
       " <td colspan=\"4\"><p> Emmis Communications Corporation</p></td>,\n",
       " <td colspan=\"4\"><p> Energy XXI Ltd.</p></td>,\n",
       " <td colspan=\"4\"><p> Enzon Pharmaceuticals, Inc.</p></td>,\n",
       " <td colspan=\"4\"><p> Escalon Medical Corp.</p></td>,\n",
       " <td colspan=\"4\"><p> Fairway Group Holdings Corp.</p></td>,\n",
       " <td colspan=\"4\"><p> First NBC Bank Holding Company</p></td>,\n",
       " <td colspan=\"4\"><p> Forbes Energy Services Ltd</p></td>,\n",
       " <td colspan=\"4\"><p> FreeSeas Inc.</p></td>,\n",
       " <td colspan=\"4\"><p> Fuwei Films (Holdings) Co., Ltd.</p></td>,\n",
       " <td colspan=\"4\"><p> GenVec, Inc.</p></td>,\n",
       " <td colspan=\"4\"><p> Gevo, Inc.</p></td>,\n",
       " <td colspan=\"4\"><p> Globus Maritime Limited</p></td>,\n",
       " <td colspan=\"4\"><p> Glori Energy Inc</p></td>,\n",
       " <td colspan=\"4\"><p> Golden Ocean Group Limited</p></td>,\n",
       " <td colspan=\"4\"><p> Great Basin Scientific, Inc.</p></td>,\n",
       " <td colspan=\"4\"><p> GTx, Inc.</p></td>,\n",
       " <td colspan=\"4\"><p> Hansen Medical, Inc.</p></td>,\n",
       " <td colspan=\"4\"><p> Harvard Bioscience, Inc.</p></td>,\n",
       " <td colspan=\"4\"><p> Helios and Matheson Analytics Inc</p></td>,\n",
       " <td colspan=\"4\"><p> Heron Therapeutics, Inc.</p></td>,\n",
       " <td colspan=\"4\"><p> Hongli Clean Energy Technologies Corp.</p></td>,\n",
       " <td colspan=\"4\"><p> Identiv, Inc.</p></td>,\n",
       " <td colspan=\"4\"><p> Immune Pharmaceuticals Inc.</p></td>,\n",
       " <td colspan=\"4\"><p> Innovative Solutions and Support, Inc.</p></td>,\n",
       " <td colspan=\"4\"><p> InterCloud Systems, Inc</p></td>,\n",
       " <td colspan=\"4\"><p> Interpace Diagnostics Group, Inc.</p></td>,\n",
       " <td colspan=\"4\"><p> Inventergy Global, Inc.</p></td>,\n",
       " <td colspan=\"4\"><p> Itron, Inc.</p></td>,\n",
       " <td colspan=\"4\"><p> KBS Fashion Group Limited</p></td>,\n",
       " <td colspan=\"4\"><p> Ku6 Media Co., Ltd.</p></td>,\n",
       " <td colspan=\"4\"><p> Lightbridge Corporation</p></td>,\n",
       " <td colspan=\"4\"><p> Lilis Energy, Inc.</p></td>,\n",
       " <td colspan=\"4\"><p> Lpath, Inc.</p></td>,\n",
       " <td colspan=\"4\"><p> Macrocure Ltd.</p></td>,\n",
       " <td colspan=\"4\"><p> Majesco Entertainment Company</p></td>,\n",
       " <td colspan=\"4\"><p> Marrone Bio Innovations, Inc.</p></td>,\n",
       " <td colspan=\"4\"><p> Marvell Technology Group Ltd.</p></td>,\n",
       " <td colspan=\"4\"><p> Mattress Firm Holding Corp.</p></td>,\n",
       " <td colspan=\"4\"><p> MER Telemanagement Solutions Ltd.</p></td>,\n",
       " <td colspan=\"4\"><p> MOKO Social Media Ltd.</p></td>,\n",
       " <td colspan=\"4\"><p> MOL Global, Inc.</p></td>,\n",
       " <td colspan=\"4\"><p> MoSys, Inc.</p></td>,\n",
       " <td colspan=\"4\"><p> Nanosphere, Inc.</p></td>,\n",
       " <td colspan=\"4\"><p> Neothetics, Inc.</p></td>,\n",
       " <td colspan=\"4\"><p> NephroGenex, Inc.</p></td>,\n",
       " <td colspan=\"4\"><p> Net Element, Inc.</p></td>,\n",
       " <td colspan=\"4\"><p> NF Energy Saving Corporation</p></td>,\n",
       " <td colspan=\"4\"><p> NXT-ID Inc.</p></td>,\n",
       " <td colspan=\"4\"><p> On Track Innovations Ltd</p></td>,\n",
       " <td colspan=\"4\"><p> OncoGenex Pharmaceuticals Inc.</p></td>,\n",
       " <td colspan=\"4\"><p> Onconova Therapeutics, Inc.</p></td>,\n",
       " <td colspan=\"4\"><p> One Horizon Group, Inc.</p></td>,\n",
       " <td colspan=\"4\"><p> Osiris Therapeutics, Inc.</p></td>,\n",
       " <td colspan=\"4\"><p> Ossen Innovation Co., Ltd.</p></td>,\n",
       " <td colspan=\"4\"><p> OXiGENE, Inc.</p></td>,\n",
       " <td colspan=\"4\"><p> Pendrell Corporation</p></td>,\n",
       " <td colspan=\"4\"><p> PhotoMedex, Inc.</p></td>,\n",
       " <td colspan=\"4\"><p> Prima BioMed Ltd</p></td>,\n",
       " <td colspan=\"4\"><p> Prism Technologies Group, Inc.</p></td>,\n",
       " <td colspan=\"4\"><p> Professional Diversity Network, Inc.</p></td>,\n",
       " <td colspan=\"4\"><p> QKL Stores, Inc.</p></td>,\n",
       " <td colspan=\"4\"><p> Qualstar Corporation</p></td>,\n",
       " <td colspan=\"4\"><p> Quest Resource Holding Corporation.</p></td>,\n",
       " <td colspan=\"4\"><p> Rada Electronics Industries Limited</p></td>,\n",
       " <td colspan=\"4\"><p> Reading International Inc</p></td>,\n",
       " <td colspan=\"4\"><p> Real Goods Solar, Inc.</p></td>,\n",
       " <td colspan=\"4\"><p> Rediff.com India Limited</p></td>,\n",
       " <td colspan=\"4\"><p> Reliv' International, Inc.</p></td>,\n",
       " <td colspan=\"4\"><p> Rennova Health, Inc.</p></td>,\n",
       " <td colspan=\"4\"><p> RIT Technologies Ltd.</p></td>,\n",
       " <td colspan=\"4\"><p> RLJ Entertainment, Inc.</p></td>,\n",
       " <td colspan=\"4\"><p> Roka Bioscience, Inc.</p></td>,\n",
       " <td colspan=\"4\"><p> RXi Pharmaceuticals Corporation</p></td>,\n",
       " <td colspan=\"4\"><p> SAExploration Holdings, Inc.</p></td>,\n",
       " <td colspan=\"4\"><p> Schmitt Industries, Inc.</p></td>,\n",
       " <td colspan=\"4\"><p> SemiLEDS Corporation</p></td>,\n",
       " <td colspan=\"4\"><p> Semler Scientific, Inc.</p></td>,\n",
       " <td colspan=\"4\"><p> Signal Genetics, Inc.</p></td>,\n",
       " <td colspan=\"4\"><p> Sino-Global Shipping America, Ltd.</p></td>,\n",
       " <td colspan=\"4\"><p> SMART Technologies Inc.</p></td>,\n",
       " <td colspan=\"4\"><p> Smith Micro Software, Inc.</p></td>,\n",
       " <td colspan=\"4\"><p> Sophiris Bio, Inc.</p></td>,\n",
       " <td colspan=\"4\"><p> Spanish Broadcasting System, Inc.</p></td>,\n",
       " <td colspan=\"4\"><p> Star Bulk Carriers Corp.</p></td>,\n",
       " <td colspan=\"4\"><p> StemCells, Inc.</p></td>,\n",
       " <td colspan=\"4\"><p> Stereotaxis, Inc.</p></td>,\n",
       " <td colspan=\"4\"><p> Sunesis Pharmaceuticals, Inc.</p></td>,\n",
       " <td colspan=\"4\"><p> Sunshine Heart Inc</p></td>,\n",
       " <td colspan=\"4\"><p> Superconductor Technologies Inc.</p></td>,\n",
       " <td colspan=\"4\"><p> support.com, Inc.</p></td>,\n",
       " <td colspan=\"4\"><p> Surgical Care Affiliates, Inc.</p></td>,\n",
       " <td colspan=\"4\"><p> Synta Pharmaceuticals Corp.</p></td>,\n",
       " <td colspan=\"4\"><p> Sysorex Global</p></td>,\n",
       " <td colspan=\"4\"><p> Taitron Components Incorporated</p></td>,\n",
       " <td colspan=\"4\"><p> Tangoe, Inc.</p></td>,\n",
       " <td colspan=\"4\"><p> TearLab Corporation</p></td>,\n",
       " <td colspan=\"4\"><p> TerraForm Global, Inc.</p></td>,\n",
       " <td colspan=\"4\"><p> TerraForm Power, Inc.</p></td>,\n",
       " <td colspan=\"4\"><p> TetraLogic Pharmaceuticals Corporation</p></td>,\n",
       " <td colspan=\"4\"><p> Threshold Pharmaceuticals, Inc.</p></td>,\n",
       " <td colspan=\"4\"><p> TOP Ships Inc.</p></td>,\n",
       " <td colspan=\"4\"><p> Torchlight Energy Resources, Inc.</p></td>,\n",
       " <td colspan=\"4\"><p> Towerstream Corporation</p></td>,\n",
       " <td colspan=\"4\"><p> Transgenomic, Inc.</p></td>,\n",
       " <td colspan=\"4\"><p> U.S. Energy Corp.</p></td>,\n",
       " <td colspan=\"4\"><p> Ubiquiti Networks, Inc.</p></td>,\n",
       " <td colspan=\"4\"><p> Ultrapetrol (Bahamas) Limited</p></td>,\n",
       " <td colspan=\"4\"><p> Unilife Corporation</p></td>,\n",
       " <td colspan=\"4\"><p> Uni-Pixel, Inc.</p></td>,\n",
       " <td colspan=\"4\"><p> United Development Funding IV</p></td>,\n",
       " <td colspan=\"4\"><p> Vestin Realty Mortgage II, Inc.</p></td>,\n",
       " <td colspan=\"4\"><p> Vical Incorporated</p></td>,\n",
       " <td colspan=\"4\"><p> Vringo, Inc.</p></td>,\n",
       " <td colspan=\"4\"><p> WaferGen Bio-systems, Inc.</p></td>,\n",
       " <td colspan=\"4\"><p> Warren Resources, Inc.</p></td>,\n",
       " <td colspan=\"4\"><p> XG Technology, Inc</p></td>,\n",
       " <td colspan=\"4\"><p> XOMA Corporation</p></td>]"
      ]
     },
     "execution_count": 7,
     "metadata": {},
     "output_type": "execute_result"
    }
   ],
   "source": [
    "namelist = []\n",
    "for i in name:\n",
    "    namelist.append(i)\n",
    "namelist"
   ]
  },
  {
   "cell_type": "code",
   "execution_count": 8,
   "metadata": {
    "collapsed": false
   },
   "outputs": [
    {
     "data": {
      "text/plain": [
       "list"
      ]
     },
     "execution_count": 8,
     "metadata": {},
     "output_type": "execute_result"
    }
   ],
   "source": [
    "type(namelist)"
   ]
  },
  {
   "cell_type": "code",
   "execution_count": 9,
   "metadata": {
    "collapsed": false
   },
   "outputs": [],
   "source": [
    "df = DataFrame(namelist)"
   ]
  },
  {
   "cell_type": "code",
   "execution_count": 11,
   "metadata": {
    "collapsed": false
   },
   "outputs": [],
   "source": [
    "df.to_csv('delisted_company.csv')"
   ]
  },
  {
   "cell_type": "code",
   "execution_count": null,
   "metadata": {
    "collapsed": true
   },
   "outputs": [],
   "source": []
  },
  {
   "cell_type": "code",
   "execution_count": null,
   "metadata": {
    "collapsed": true
   },
   "outputs": [],
   "source": []
  }
 ],
 "metadata": {
  "kernelspec": {
   "display_name": "Python 2",
   "language": "python",
   "name": "python2"
  },
  "language_info": {
   "codemirror_mode": {
    "name": "ipython",
    "version": 2
   },
   "file_extension": ".py",
   "mimetype": "text/x-python",
   "name": "python",
   "nbconvert_exporter": "python",
   "pygments_lexer": "ipython2",
   "version": "2.7.11"
  }
 },
 "nbformat": 4,
 "nbformat_minor": 0
}
