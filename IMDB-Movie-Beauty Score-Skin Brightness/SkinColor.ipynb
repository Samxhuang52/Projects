{
 "cells": [
  {
   "cell_type": "code",
   "execution_count": 22,
   "metadata": {
    "collapsed": false
   },
   "outputs": [],
   "source": [
    "import Algorithmia\n",
    "import os\n",
    "import webcolors\n",
    "import pandas as pd\n",
    "from pandas import DataFrame"
   ]
  },
  {
   "cell_type": "code",
   "execution_count": null,
   "metadata": {
    "collapsed": true
   },
   "outputs": [],
   "source": []
  },
  {
   "cell_type": "code",
   "execution_count": 30,
   "metadata": {
    "collapsed": false
   },
   "outputs": [
    {
     "name": "stdout",
     "output_type": "stream",
     "text": [
      "['Aimee_Carrero.jpg', 'Alana_De_La_Garza.jpg', 'Amanda_Holden.jpg', 'Amy_Smart.jpg', 'Andrew_Lincoln.jpg', 'Andrew_Rooney.jpg', 'Angie_Harmon.jpg', 'Angus_T._Jones.jpg', 'Anthony_McPartlin.jpg', 'Ashley_Jensen.jpg', 'Ashton_Moio.jpg', 'Ava_Jogia.jpg', 'Ayla_Kell.jpg', 'Ben_McKenzie.jpg', 'Bianca_Kajlich.jpg', 'Bob_Saget.jpg', 'Bob_Schieffer.jpg', 'Bonnie_Somerville.jpg', 'Brent_Morin.jpg', 'Brian_Doyle-Murray.jpg', 'Brian_Drummond.jpg', 'Bruce_Greenwood.jpg', 'Bryshere_Y._Gray.jpg', 'Candice_Patton.jpg', 'Cassie_Scerbo.jpg', \"Catherine_O'Hara.jpg\", 'Chad_Michael_Murray.jpg', 'Chandler_Riggs.jpg', 'Charlie_McDermott.jpg', 'Charlie_Sheen.jpg', 'Chloe_Bennet.jpg', \"Chris_D'Elia.jpg\", 'Christian_Jessen.jpg', 'Christine_Ebersole.jpg', 'Clare_Bowen.jpg', 'Clark_Gregg.jpg', 'Conchata_Ferrell.jpg', 'Connie_Britton.jpg', 'Cress_Williams.jpg', 'Dan_Levy.jpg', 'Dana_Delany.jpg', 'Daniel_Gillies.jpg', 'David_Ilku.jpg', 'David_Mazouz.jpg', 'David_Ramsey.jpg', 'David_Tennant.jpg', 'Dawn_Harper.jpg', 'Declan_Donnelly.jpg', 'Derek_Theler.jpg', 'Don_Hewitt.jpg', 'Donal_Logue.jpg', 'Dylan_Haggerty.jpg', 'Edi_Gathegi.jpg', 'Elan_Garfias.jpg', 'Elisabeth_Shue.jpg', 'Elisha_Cuthbert.jpg', 'Eliza_Coupe.jpg', 'Emily_Osment.jpg', 'Emily_VanCamp.jpg', 'Eugene_Levy.jpg', 'G.W._Bailey.jpg', 'Gabriel_Mann.jpg', 'George_Eads.jpg', 'Ginnifer_Goodwin.jpg', 'Grant_Gustin.jpg', 'Hayden_Panettiere.jpg', 'Hayley_Atwell.jpg', 'Ian_Anthony_Dale.jpg', 'Ian_Somerhalder.jpg', 'Ioan_Gruffudd.jpg', 'J.E._Freeman.jpg', 'J.K._Simmons.jpg', 'Jaime_King.jpg', \"James_D'Arcy.jpg\", 'James_Purefoy.jpg', 'Jane_Leeves.jpg', 'Janina_Gavankar.jpg', 'Jared_Padalecki.jpg', 'Jean-Luc_Bilodeau.jpg', 'Jennifer_Morrison.jpg', 'Jensen_Ackles.jpg', 'Jeri_Ryan.jpg', 'Jess_Harnell.jpg', 'Jodie_Whittaker.jpg', 'Joe_Anderson.jpg', 'Joel_David_Moore.jpg', 'Joel_Tobeck.jpg', 'John_Carroll_Lynch.jpg', 'Jon_Cryer.jpg', 'Jonathan_Sadowski.jpg', 'Jordan_Bridges.jpg', 'Joseph_Morgan.jpg', 'Josh_Lucas.jpg', 'Josie_Loren.jpg', 'Jussie_Smollett.jpg', 'Kat_Graham.jpg', 'Kathleen_Robertson.jpg', 'Katie_Cassidy.jpg', 'Kelly_Brook.jpg', 'Kevin_Alejandro.jpg', 'Kevin_Bacon.jpg', 'Kyle_Bornheimer.jpg', 'Lacey_Chabert.jpg', 'Lana_Parrilla.jpg', 'Laz_Alonso.jpg', 'Leslie_Hope.jpg', 'Lindsay_Duncan.jpg', 'Lucas_Grabeel.jpg', 'Maddie_Hasson.jpg', 'Madeleine_Stowe.jpg', 'Maggie_Q.jpg', 'Maia_Mitchell.jpg', 'Malachi_Kirby.jpg', 'Mark_Mitchinson.jpg', 'Mary_McDonnell.jpg', 'Matthew_Gray_Gubler.jpg', 'Maurice_LaMarche.jpg', 'Max_Ryan.jpg', 'Ming-Na_Wen.jpg', 'Miriama_Smith.jpg', 'Misha_Collins.jpg', 'Nathan_Fillion.jpg', 'Neil_Flynn.jpg', 'Nick_Zano.jpg', 'Nicolas_Cage.jpg', 'Norman_Reedus.jpg', 'Noureen_DeWulf.jpg', 'Olivia_Colman.jpg', 'Patricia_Heaton.jpg', 'Patrick_Wilson.jpg', 'Paul_Wesley.jpg', 'Phoebe_Tonkin.jpg', 'Rachel_Bilson.jpg', 'Rachel_Nichols.jpg', 'Randall_Batinkoff.jpg', 'Richard_Ian_Cox.jpg', 'Robin_Tunney.jpg', 'Sarah_Edmondson.jpg', 'Sasha_Alexander.jpg', 'Sean_Berdy.jpg', 'Shawn_Ashmore.jpg', 'Shawnee_Smith.jpg', 'Shemar_Moore.jpg', 'Sherri_Saum.jpg', 'Simon_Baker.jpg', 'Stana_Katic.jpg', 'Stephen_Amell.jpg', 'Steve_Byrne.jpg', 'Suranne_Jones.jpg', 'Susan_Sullivan.jpg', 'Tahj_Mowry.jpg', 'Taye_Diggs.jpg', 'Ted_Danson.jpg', 'Teri_Polo.jpg', 'Terrence_Howard.jpg', 'Theo_James.jpg', 'Thomas_Gibson.jpg', 'Tim_Kang.jpg', 'Tom_Bergeron.jpg', 'Tom_Cavanagh.jpg', 'Tony_Denison.jpg', 'Valerie_Bertinelli.jpg', 'Vanessa_Marano.jpg', 'Victor_Rasuk.jpg', 'Wendie_Malick.jpg', 'Zachary_Knighton.jpg']\n"
     ]
    }
   ],
   "source": [
    "fname=[]\n",
    "directory = '/Users/Singsing/Documents/IMDB_Project/sc_pics'\n",
    "for subdir, dirs, files in os.walk(directory):\n",
    "    for file in files:\n",
    "        filename = file\n",
    "        fname.append(filename)\n",
    "fname.pop(0)\n",
    "fname.pop(0)\n",
    "print fname     "
   ]
  },
  {
   "cell_type": "code",
   "execution_count": 24,
   "metadata": {
    "collapsed": false
   },
   "outputs": [
    {
     "name": "stdout",
     "output_type": "stream",
     "text": [
      "Aimee_Carrero.jpg has no skin color\n",
      "Alana_De_La_Garza.jpg has no skin color\n",
      "Amanda_Holden.jpg has no skin color\n",
      "Angus_T._Jones.jpg has no skin color\n",
      "Anthony_McPartlin.jpg has no skin color\n",
      "Ava_Jogia.jpg has no skin color\n",
      "Bianca_Kajlich.jpg has no skin color\n",
      "Bonnie_Somerville.jpg has no skin color\n",
      "Brian_Drummond.jpg has no skin color\n",
      "Candice_Patton.jpg has no skin color\n",
      "Catherine_O'Hara.jpg has no skin color\n",
      "Chandler_Riggs.jpg has no skin color\n",
      "Chloe_Bennet.jpg has no skin color\n",
      "Chris_D'Elia.jpg has no skin color\n",
      "Christine_Ebersole.jpg has no skin color\n",
      "Clare_Bowen.jpg has no skin color\n",
      "Clark_Gregg.jpg has no skin color\n",
      "Conchata_Ferrell.jpg has no skin color\n",
      "Cress_Williams.jpg has no skin color\n",
      "Dana_Delany.jpg has no skin color\n",
      "Daniel_Gillies.jpg has no skin color\n",
      "David_Tennant.jpg has no skin color\n",
      "Dawn_Harper.jpg has no skin color\n",
      "Declan_Donnelly.jpg has no skin color\n",
      "Don_Hewitt.jpg has no skin color\n",
      "Dylan_Haggerty.jpg has no skin color\n",
      "Edi_Gathegi.jpg has no skin color\n",
      "Elisha_Cuthbert.jpg has no skin color\n",
      "Emily_VanCamp.jpg has no skin color\n",
      "Gabriel_Mann.jpg has no skin color\n",
      "Ginnifer_Goodwin.jpg has no skin color\n",
      "Grant_Gustin.jpg has no skin color\n",
      "Ian_Anthony_Dale.jpg has no skin color\n",
      "Ian_Somerhalder.jpg has no skin color\n",
      "Ioan_Gruffudd.jpg has no skin color\n",
      "J.K._Simmons.jpg has no skin color\n",
      "Jaime_King.jpg has no skin color\n",
      "James_D'Arcy.jpg has no skin color\n",
      "Janina_Gavankar.jpg has no skin color\n",
      "Jared_Padalecki.jpg has no skin color\n",
      "Jennifer_Morrison.jpg has no skin color\n",
      "Jensen_Ackles.jpg has no skin color\n",
      "Jess_Harnell.jpg has no skin color\n",
      "Joe_Anderson.jpg has no skin color\n",
      "Joseph_Morgan.jpg has no skin color\n",
      "Josie_Loren.jpg has no skin color\n",
      "Kat_Graham.jpg has no skin color\n",
      "Kathleen_Robertson.jpg has no skin color\n",
      "Katie_Cassidy.jpg has no skin color\n",
      "Kelly_Brook.jpg has no skin color\n",
      "Kevin_Bacon.jpg has no skin color\n",
      "Lacey_Chabert.jpg has no skin color\n",
      "Laz_Alonso.jpg has no skin color\n",
      "Lucas_Grabeel.jpg has no skin color\n",
      "Maddie_Hasson.jpg has no skin color\n",
      "Maggie_Q.jpg has no skin color\n",
      "Malachi_Kirby.jpg has no skin color\n",
      "Mary_McDonnell.jpg has no skin color\n",
      "Max_Ryan.jpg has no skin color\n",
      "Ming-Na_Wen.jpg has no skin color\n",
      "Miriama_Smith.jpg has no skin color\n",
      "Nathan_Fillion.jpg has no skin color\n",
      "Nicolas_Cage.jpg has no skin color\n",
      "Noureen_DeWulf.jpg has no skin color\n",
      "Paul_Wesley.jpg has no skin color\n",
      "Phoebe_Tonkin.jpg has no skin color\n",
      "Randall_Batinkoff.jpg has no skin color\n",
      "Richard_Ian_Cox.jpg has no skin color\n",
      "Sarah_Edmondson.jpg has no skin color\n",
      "Sherri_Saum.jpg has no skin color\n",
      "Stana_Katic.jpg has no skin color\n",
      "Steve_Byrne.jpg has no skin color\n",
      "Susan_Sullivan.jpg has no skin color\n",
      "Terrence_Howard.jpg has no skin color\n",
      "Theo_James.jpg has no skin color\n",
      "Tim_Kang.jpg has no skin color\n",
      "Tom_Bergeron.jpg has no skin color\n",
      "Tom_Cavanagh.jpg has no skin color\n",
      "Vanessa_Marano.jpg has no skin color\n"
     ]
    }
   ],
   "source": [
    "SkinColor=[]\n",
    "Name=[]\n",
    "red = []\n",
    "green = []\n",
    "blue = []\n",
    "for i in fname:\n",
    "    try:\n",
    "        input = \"data://Singsing/Face/\"+i\n",
    "        client = Algorithmia.client('sim2mJCBLLljoCkydslRxOyAIn81')\n",
    "        algo = client.algo('opencv/SkinColorDetection/0.1.17')\n",
    "        sc = algo.pipe(input)\n",
    "        sc3 = sc.result\n",
    "        r = ((sc3[0][0]+sc3[0][1])/2)\n",
    "        g = ((sc3[0][2]+sc3[0][3])/2)\n",
    "        b = ((sc3[0][4]+sc3[0][5])/2)\n",
    "        #dont need to get the color\n",
    "        #requested_colour = (sc3[0][1],sc3[0][3],sc3[0][5])\n",
    "        #actual_name, closest_name = get_colour_name(requested_colour)\n",
    "        Name.append(i)\n",
    "        red.append(r)\n",
    "        green.append(g)\n",
    "        blue.append(b)\n",
    "        #SkinColor.append(closest_name)\n",
    "    except TypeError:\n",
    "        print i,'has no skin color'\n",
    "        continue\n",
    "    "
   ]
  },
  {
   "cell_type": "code",
   "execution_count": 25,
   "metadata": {
    "collapsed": false
   },
   "outputs": [],
   "source": [
    "scdf = pd.DataFrame()"
   ]
  },
  {
   "cell_type": "code",
   "execution_count": 26,
   "metadata": {
    "collapsed": false
   },
   "outputs": [],
   "source": [
    "#len(SkinColor)"
   ]
  },
  {
   "cell_type": "code",
   "execution_count": 27,
   "metadata": {
    "collapsed": false
   },
   "outputs": [],
   "source": [
    "scdf['name']=Name\n",
    "#scdf['SkinColor']=SkinColor\n",
    "scdf['Red']=red\n",
    "scdf['Green']=green\n",
    "scdf['Blue']=blue\n",
    "scdf.to_excel('skincolor_rgb.xlsx')"
   ]
  },
  {
   "cell_type": "code",
   "execution_count": null,
   "metadata": {
    "collapsed": true
   },
   "outputs": [],
   "source": []
  },
  {
   "cell_type": "code",
   "execution_count": null,
   "metadata": {
    "collapsed": false
   },
   "outputs": [],
   "source": []
  },
  {
   "cell_type": "code",
   "execution_count": null,
   "metadata": {
    "collapsed": false
   },
   "outputs": [],
   "source": []
  },
  {
   "cell_type": "code",
   "execution_count": null,
   "metadata": {
    "collapsed": false
   },
   "outputs": [],
   "source": []
  },
  {
   "cell_type": "code",
   "execution_count": null,
   "metadata": {
    "collapsed": true
   },
   "outputs": [],
   "source": []
  }
 ],
 "metadata": {
  "kernelspec": {
   "display_name": "Python 2",
   "language": "python",
   "name": "python2"
  },
  "language_info": {
   "codemirror_mode": {
    "name": "ipython",
    "version": 2
   },
   "file_extension": ".py",
   "mimetype": "text/x-python",
   "name": "python",
   "nbconvert_exporter": "python",
   "pygments_lexer": "ipython2",
   "version": "2.7.11"
  }
 },
 "nbformat": 4,
 "nbformat_minor": 0
}
